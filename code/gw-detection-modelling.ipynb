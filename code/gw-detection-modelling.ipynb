{
 "cells": [
  {
   "cell_type": "markdown",
   "id": "4fda667a",
   "metadata": {
    "papermill": {
     "duration": 0.041359,
     "end_time": "2021-08-04T05:37:46.138668",
     "exception": false,
     "start_time": "2021-08-04T05:37:46.097309",
     "status": "completed"
    },
    "tags": []
   },
   "source": [
    "# Gravitational Wave Detection\n",
    "\n",
    "This is the final project done as part of the General Assembly's Data Science Immersive in Jul/Aug 2021."
   ]
  },
  {
   "cell_type": "markdown",
   "id": "2da50011",
   "metadata": {
    "papermill": {
     "duration": 0.040881,
     "end_time": "2021-08-04T05:37:46.219727",
     "exception": false,
     "start_time": "2021-08-04T05:37:46.178846",
     "status": "completed"
    },
    "tags": []
   },
   "source": [
    "In this notebook we will build the `TensorFlow` input data pipeline, build, train & evaluate binary classification model to predict if the given set of signals has Gravitational Waves in them or not. As mentioned in the analysis notebook, we will be using _Deep Learning_ models, specifically image classification models in this project. For evaluation metrics, ROC AUC (receiver operating charateristics area under curve) is used.\n",
    "\n",
    "**Data Pipeline**\n",
    "\n",
    "A well structured data pipeline, if used, can create an efficient workflow by consolidating all the data imports, preprocessing & manipulations into cleanly defined functions. This can be unavoidable, if dealing with large datasets, such as in this project, which might not be possible to load at once due to memory limitations. `TensorFlow`'s [`tf.data`](https://www.tensorflow.org/guide/data) API can assist in building this complex yet flexible and modular pipeline. It also enables to optimize our workflow for GPU and TensorFlow provides methods that can be run on GPU instead, while handling data as `tf.tensor`, that can run more than 5 times faster depending on the situation.\n",
    "\n",
    "**Modelling Strategy**\n",
    "\n",
    "There are mainly two methodologies we followed in the project, since this is essentially a signal processing problem with classification task, there can be two ways in which we can build models around this data, as also mentioned in the analysis notebook - using \"raw\" signals with minimal pre-processing and using \"images\" by transforming the waves into spectrograms. However, building models on raw signal data, by following the cleaning steps from respective publications, didnot yield acceptable results. It is worth mentioning that only a part of the data was used while strategy selection process, and it was concluded that more pre-processing was necessary, or rather proper pre-processing, if we were to use raw signal.\n",
    "\n",
    "Eventually, the second method that we went with in this project, is used to transform the waves into the spectrogram image. We train two models to evaluate the results:\n",
    "1. Simple CNN- a simple CNN architecture that is a modified version of the model usually used in MNIST Digit Recognizer tutorials. This acts as our baseline model.\n",
    "2. SOTA EfficientNet- a state-of-the-art [`EfficientNetB0`](https://keras.io/examples/vision/image_classification_efficientnet_fine_tuning/) model that has been developed and pre-trained on ImageNet dataset. This model is chosen as it is known for its near-SOTA performance with significantly fewer number of parameters, that can drastically improve the computational efficiency.\n",
    "\n",
    "The EfficientNetB0 is the \"entry-level\" model we choose from a whole range of models available. We split the train dataset given into - training & validations - in 75~25 ratio. Both the models are initally trained on the training dataset and validate on the validation dataset, and once acceptable convergence is seen on the metrics, we re-train the models on the validation dataset so the models have seen the entire training data before we make predictions for the test dataset.\n",
    "\n",
    "**Evaluation**\n",
    "\n",
    "We compile both the models to keep track of two metrics, ROC AUC and accuracy. The focus will be on looking out for a good AUC value, which tells us that the model is good at separating the two classes well, and accuracy will give us a sense of overall performance. We will compare the two models later and also see what kaggle submission scores we get from our predictions for the test dataset.\n",
    "\n",
    "#### Contents\n",
    "\n",
    "The contents of this notebook are as follows:\n",
    "- [Imports](#Imports)\n",
    "\n",
    "- [Modelling](#Modelling)\n",
    "\n",
    "- [Evaluation](#Evaluation)\n",
    "\n",
    "- [Results & Conclusions](#Results-&-Conclusions)\n",
    "\n",
    "**Note:** This notebook was developed and run in the kaggle notebook environment."
   ]
  },
  {
   "cell_type": "markdown",
   "id": "74f27c49",
   "metadata": {
    "execution": {
     "iopub.execute_input": "2021-08-02T12:17:25.6429Z",
     "iopub.status.busy": "2021-08-02T12:17:25.642195Z",
     "iopub.status.idle": "2021-08-02T12:17:25.649339Z",
     "shell.execute_reply": "2021-08-02T12:17:25.648342Z",
     "shell.execute_reply.started": "2021-08-02T12:17:25.64278Z"
    },
    "papermill": {
     "duration": 0.039468,
     "end_time": "2021-08-04T05:37:46.299359",
     "exception": false,
     "start_time": "2021-08-04T05:37:46.259891",
     "status": "completed"
    },
    "tags": []
   },
   "source": [
    "### Imports\n",
    "\n",
    "#### Import the libraries\n",
    "\n",
    "We are using `TensorFlow` to build the models in this project, so import the relevant methods from the library."
   ]
  },
  {
   "cell_type": "code",
   "execution_count": 1,
   "id": "7f156328",
   "metadata": {
    "_cell_guid": "b1076dfc-b9ad-4769-8c92-a6c4dae69d19",
    "_uuid": "8f2839f25d086af736a60e9eeb907d3b93b6e0e5",
    "execution": {
     "iopub.execute_input": "2021-08-04T05:37:46.395891Z",
     "iopub.status.busy": "2021-08-04T05:37:46.395206Z",
     "iopub.status.idle": "2021-08-04T05:38:00.601100Z",
     "shell.execute_reply": "2021-08-04T05:38:00.599985Z",
     "shell.execute_reply.started": "2021-08-04T01:03:11.356763Z"
    },
    "papermill": {
     "duration": 14.262093,
     "end_time": "2021-08-04T05:38:00.601281",
     "exception": false,
     "start_time": "2021-08-04T05:37:46.339188",
     "status": "completed"
    },
    "tags": []
   },
   "outputs": [
    {
     "name": "stdout",
     "output_type": "stream",
     "text": [
      "\u001b[33mWARNING: Running pip as root will break packages and permissions. You should install packages reliably by using venv: https://pip.pypa.io/warnings/venv\u001b[0m\r\n"
     ]
    }
   ],
   "source": [
    "# Import libraries\n",
    "import numpy as np # linear algebra\n",
    "import pandas as pd # data processing\n",
    "import matplotlib.pyplot as plt # plotting tools\n",
    "\n",
    "# Train test split\n",
    "from sklearn.model_selection import train_test_split\n",
    "\n",
    "# Import tensorflow\n",
    "import tensorflow as tf\n",
    "\n",
    "# Model & compile arguments\n",
    "from tensorflow.keras.models import Sequential\n",
    "from tensorflow.keras.optimizers import Adam\n",
    "\n",
    "# Get the layers\n",
    "from tensorflow.keras.layers import Dense\n",
    "from tensorflow.keras.layers import Conv2D\n",
    "from tensorflow.keras.layers import MaxPooling2D\n",
    "from tensorflow.keras.layers import GlobalAveragePooling2D\n",
    "from tensorflow.keras.layers import Flatten\n",
    "\n",
    "# Import the Efficientnet models\n",
    "from tensorflow.keras.applications import EfficientNetB0\n",
    "\n",
    "# TF model metrics\n",
    "from tensorflow.keras.metrics import AUC\n",
    "\n",
    "# \n",
    "import librosa\n",
    "import torch\n",
    "\n",
    "# (Install &) Import the nnAudio library for Constant Q-Transform\n",
    "try:\n",
    "    from nnAudio.Spectrogram import CQT1992v2\n",
    "except:\n",
    "    !pip install -q nnAudio\n",
    "    from nnAudio.Spectrogram import CQT1992v2\n",
    "    \n",
    "# Run the state-of-the-art model\n",
    "!pip install -U efficientnet\n",
    "import efficientnet.keras as efn"
   ]
  },
  {
   "cell_type": "markdown",
   "id": "9b2ad584",
   "metadata": {
    "papermill": {
     "duration": 0.041063,
     "end_time": "2021-08-04T05:38:00.686427",
     "exception": false,
     "start_time": "2021-08-04T05:38:00.645364",
     "status": "completed"
    },
    "tags": []
   },
   "source": [
    "**Note:** The `nnAudio`'s `CQT1992v2` is used, instead of `GWpy` from analysis notebook, to transform the wave data into Constant Q-Transform spectrograms because this performs the operation much faster and is GPU compatible (when used with appropriate workflow). One caveat is that this library is bsaed on `PyTorch` and thus takes `torch.tensor` as its input instead of `tf.tensor`."
   ]
  },
  {
   "cell_type": "code",
   "execution_count": 2,
   "id": "9e348fd2",
   "metadata": {
    "execution": {
     "iopub.execute_input": "2021-08-04T05:38:00.780281Z",
     "iopub.status.busy": "2021-08-04T05:38:00.779463Z",
     "iopub.status.idle": "2021-08-04T05:38:00.782276Z",
     "shell.execute_reply": "2021-08-04T05:38:00.781751Z",
     "shell.execute_reply.started": "2021-08-04T01:03:32.729032Z"
    },
    "papermill": {
     "duration": 0.049422,
     "end_time": "2021-08-04T05:38:00.782423",
     "exception": false,
     "start_time": "2021-08-04T05:38:00.733001",
     "status": "completed"
    },
    "tags": []
   },
   "outputs": [],
   "source": [
    "# Function to save kaggle submissions for test prediction probabilities\n",
    "def get_kaggle_format(prediction_probs, model='base'):\n",
    "    # load the sample submission file\n",
    "#     sub = pd.read_csv('../input/g2net-gravitational-wave-detection/sample_submission.csv')\n",
    "    sample_sub['target'] = prediction_probs\n",
    "    \n",
    "    # Output filename for kaggle submission\n",
    "    filename = f\"kaggle_sub_{model}.csv\"\n",
    "    \n",
    "    # Save the DataFrame to a file\n",
    "    sample_sub.to_csv(filename, index=False)\n",
    "    print(f'File name: {filename}')"
   ]
  },
  {
   "cell_type": "markdown",
   "id": "e33b710b",
   "metadata": {
    "execution": {
     "iopub.execute_input": "2021-08-02T15:55:08.499962Z",
     "iopub.status.busy": "2021-08-02T15:55:08.499619Z",
     "iopub.status.idle": "2021-08-02T15:55:08.50668Z",
     "shell.execute_reply": "2021-08-02T15:55:08.505493Z",
     "shell.execute_reply.started": "2021-08-02T15:55:08.499929Z"
    },
    "papermill": {
     "duration": 0.041683,
     "end_time": "2021-08-04T05:38:00.870477",
     "exception": false,
     "start_time": "2021-08-04T05:38:00.828794",
     "status": "completed"
    },
    "tags": []
   },
   "source": [
    "#### Import the training and submission labels\n",
    "\n",
    "The dataset is available from the **G2Net Gravitational Wave Detection** on [kaggle](https://www.kaggle.com/c/g2net-gravitational-wave-detection/data), but since this website is run in kaggle notebook environment, we use the local relative links to import the data."
   ]
  },
  {
   "cell_type": "code",
   "execution_count": 3,
   "id": "95dac4d4",
   "metadata": {
    "execution": {
     "iopub.execute_input": "2021-08-04T05:38:00.982395Z",
     "iopub.status.busy": "2021-08-04T05:38:00.981524Z",
     "iopub.status.idle": "2021-08-04T05:38:01.699508Z",
     "shell.execute_reply": "2021-08-04T05:38:01.698498Z",
     "shell.execute_reply.started": "2021-08-04T01:03:32.746934Z"
    },
    "papermill": {
     "duration": 0.784807,
     "end_time": "2021-08-04T05:38:01.699639",
     "exception": false,
     "start_time": "2021-08-04T05:38:00.914832",
     "status": "completed"
    },
    "tags": []
   },
   "outputs": [],
   "source": [
    "# Get the training ids\n",
    "train = pd.read_csv('../input/g2net-gravitational-wave-detection/training_labels.csv')\n",
    "\n",
    "# Get the subsmission file\n",
    "sample_sub = pd.read_csv('../input/g2net-gravitational-wave-detection/sample_submission.csv')"
   ]
  },
  {
   "cell_type": "code",
   "execution_count": 4,
   "id": "c43b7447",
   "metadata": {
    "execution": {
     "iopub.execute_input": "2021-08-04T05:38:01.794467Z",
     "iopub.status.busy": "2021-08-04T05:38:01.792628Z",
     "iopub.status.idle": "2021-08-04T05:38:01.796979Z",
     "shell.execute_reply": "2021-08-04T05:38:01.796444Z",
     "shell.execute_reply.started": "2021-08-04T01:03:33.558953Z"
    },
    "papermill": {
     "duration": 0.056014,
     "end_time": "2021-08-04T05:38:01.797125",
     "exception": false,
     "start_time": "2021-08-04T05:38:01.741111",
     "status": "completed"
    },
    "tags": []
   },
   "outputs": [
    {
     "name": "stdout",
     "output_type": "stream",
     "text": [
      "Training labels: 560000 | Test dataset: 226000\n"
     ]
    }
   ],
   "source": [
    "print(f'Training labels: {train.shape[0]} | Test dataset: {sample_sub.shape[0]}')"
   ]
  },
  {
   "cell_type": "markdown",
   "id": "d7984134",
   "metadata": {
    "papermill": {
     "duration": 0.044103,
     "end_time": "2021-08-04T05:38:01.883060",
     "exception": false,
     "start_time": "2021-08-04T05:38:01.838957",
     "status": "completed"
    },
    "tags": []
   },
   "source": [
    "There are 560000 training and 226000 test data observations in total. As mentioned in the competition description, each of these are `id`s that is the filename, which in the local directory contains 3 timeseries samples from the 3 observatories."
   ]
  },
  {
   "cell_type": "code",
   "execution_count": 5,
   "id": "c0bbf1bb",
   "metadata": {
    "execution": {
     "iopub.execute_input": "2021-08-04T05:38:01.975736Z",
     "iopub.status.busy": "2021-08-04T05:38:01.974930Z",
     "iopub.status.idle": "2021-08-04T05:38:01.978735Z",
     "shell.execute_reply": "2021-08-04T05:38:01.978264Z",
     "shell.execute_reply.started": "2021-08-04T01:03:33.566779Z"
    },
    "papermill": {
     "duration": 0.051012,
     "end_time": "2021-08-04T05:38:01.978881",
     "exception": false,
     "start_time": "2021-08-04T05:38:01.927869",
     "status": "completed"
    },
    "tags": []
   },
   "outputs": [],
   "source": [
    "# fraction of entire dataset, use 1 if running on whole data\n",
    "data_size = 1\n",
    "\n",
    "# if not using entire dataset, sample it\n",
    "if data_size != 1.0:\n",
    "    train = train.sample(frac=data_size, random_state=42)\n",
    "    sample_sub = sample_sub.sample(frac=data_size, random_state=42)"
   ]
  },
  {
   "cell_type": "code",
   "execution_count": 6,
   "id": "5121269f",
   "metadata": {
    "execution": {
     "iopub.execute_input": "2021-08-04T05:38:02.075013Z",
     "iopub.status.busy": "2021-08-04T05:38:02.074491Z",
     "iopub.status.idle": "2021-08-04T05:38:02.079565Z",
     "shell.execute_reply": "2021-08-04T05:38:02.079103Z",
     "shell.execute_reply.started": "2021-08-04T01:03:33.645407Z"
    },
    "papermill": {
     "duration": 0.054454,
     "end_time": "2021-08-04T05:38:02.079689",
     "exception": false,
     "start_time": "2021-08-04T05:38:02.025235",
     "status": "completed"
    },
    "tags": []
   },
   "outputs": [
    {
     "data": {
      "text/plain": [
       "(560000, 2)"
      ]
     },
     "execution_count": 6,
     "metadata": {},
     "output_type": "execute_result"
    }
   ],
   "source": [
    "# Training dataset to use\n",
    "train.shape"
   ]
  },
  {
   "cell_type": "code",
   "execution_count": 7,
   "id": "60a1f2d4",
   "metadata": {
    "execution": {
     "iopub.execute_input": "2021-08-04T05:38:02.176429Z",
     "iopub.status.busy": "2021-08-04T05:38:02.175717Z",
     "iopub.status.idle": "2021-08-04T05:38:02.189867Z",
     "shell.execute_reply": "2021-08-04T05:38:02.189384Z",
     "shell.execute_reply.started": "2021-08-04T01:03:33.658597Z"
    },
    "papermill": {
     "duration": 0.063576,
     "end_time": "2021-08-04T05:38:02.189999",
     "exception": false,
     "start_time": "2021-08-04T05:38:02.126423",
     "status": "completed"
    },
    "tags": []
   },
   "outputs": [
    {
     "data": {
      "text/html": [
       "<div>\n",
       "<style scoped>\n",
       "    .dataframe tbody tr th:only-of-type {\n",
       "        vertical-align: middle;\n",
       "    }\n",
       "\n",
       "    .dataframe tbody tr th {\n",
       "        vertical-align: top;\n",
       "    }\n",
       "\n",
       "    .dataframe thead th {\n",
       "        text-align: right;\n",
       "    }\n",
       "</style>\n",
       "<table border=\"1\" class=\"dataframe\">\n",
       "  <thead>\n",
       "    <tr style=\"text-align: right;\">\n",
       "      <th></th>\n",
       "      <th>id</th>\n",
       "      <th>target</th>\n",
       "    </tr>\n",
       "  </thead>\n",
       "  <tbody>\n",
       "    <tr>\n",
       "      <th>0</th>\n",
       "      <td>00000e74ad</td>\n",
       "      <td>1</td>\n",
       "    </tr>\n",
       "    <tr>\n",
       "      <th>1</th>\n",
       "      <td>00001f4945</td>\n",
       "      <td>0</td>\n",
       "    </tr>\n",
       "    <tr>\n",
       "      <th>2</th>\n",
       "      <td>0000661522</td>\n",
       "      <td>0</td>\n",
       "    </tr>\n",
       "    <tr>\n",
       "      <th>3</th>\n",
       "      <td>00007a006a</td>\n",
       "      <td>0</td>\n",
       "    </tr>\n",
       "    <tr>\n",
       "      <th>4</th>\n",
       "      <td>0000a38978</td>\n",
       "      <td>1</td>\n",
       "    </tr>\n",
       "  </tbody>\n",
       "</table>\n",
       "</div>"
      ],
      "text/plain": [
       "           id  target\n",
       "0  00000e74ad       1\n",
       "1  00001f4945       0\n",
       "2  0000661522       0\n",
       "3  00007a006a       0\n",
       "4  0000a38978       1"
      ]
     },
     "execution_count": 7,
     "metadata": {},
     "output_type": "execute_result"
    }
   ],
   "source": [
    "# check train dataset contents \n",
    "train.head()"
   ]
  },
  {
   "cell_type": "code",
   "execution_count": 8,
   "id": "275f1a3f",
   "metadata": {
    "execution": {
     "iopub.execute_input": "2021-08-04T05:38:02.284160Z",
     "iopub.status.busy": "2021-08-04T05:38:02.283487Z",
     "iopub.status.idle": "2021-08-04T05:38:02.286767Z",
     "shell.execute_reply": "2021-08-04T05:38:02.287183Z",
     "shell.execute_reply.started": "2021-08-04T01:03:33.690192Z"
    },
    "papermill": {
     "duration": 0.050396,
     "end_time": "2021-08-04T05:38:02.287311",
     "exception": false,
     "start_time": "2021-08-04T05:38:02.236915",
     "status": "completed"
    },
    "tags": []
   },
   "outputs": [
    {
     "data": {
      "text/plain": [
       "(226000, 2)"
      ]
     },
     "execution_count": 8,
     "metadata": {},
     "output_type": "execute_result"
    }
   ],
   "source": [
    "# Test dataset to use\n",
    "sample_sub.shape"
   ]
  },
  {
   "cell_type": "markdown",
   "id": "190f2a4d",
   "metadata": {
    "papermill": {
     "duration": 0.042679,
     "end_time": "2021-08-04T05:38:02.378162",
     "exception": false,
     "start_time": "2021-08-04T05:38:02.335483",
     "status": "completed"
    },
    "tags": []
   },
   "source": [
    "#### Baseline score\n",
    "\n",
    "Since this binary classification can be divided into positive and negative class, we can define a _baseline score_ based on the target variable distribution."
   ]
  },
  {
   "cell_type": "code",
   "execution_count": 9,
   "id": "4fd9d571",
   "metadata": {
    "execution": {
     "iopub.execute_input": "2021-08-04T05:38:02.476431Z",
     "iopub.status.busy": "2021-08-04T05:38:02.475529Z",
     "iopub.status.idle": "2021-08-04T05:38:02.500590Z",
     "shell.execute_reply": "2021-08-04T05:38:02.500052Z",
     "shell.execute_reply.started": "2021-08-04T01:03:33.699646Z"
    },
    "papermill": {
     "duration": 0.076874,
     "end_time": "2021-08-04T05:38:02.500703",
     "exception": false,
     "start_time": "2021-08-04T05:38:02.423829",
     "status": "completed"
    },
    "tags": []
   },
   "outputs": [
    {
     "data": {
      "text/plain": [
       "0    0.500125\n",
       "1    0.499875\n",
       "Name: target, dtype: float64"
      ]
     },
     "execution_count": 9,
     "metadata": {},
     "output_type": "execute_result"
    }
   ],
   "source": [
    "# Target distribution in the training data\n",
    "train['target'].value_counts(normalize=True)"
   ]
  },
  {
   "cell_type": "markdown",
   "id": "6f97bf3c",
   "metadata": {
    "papermill": {
     "duration": 0.04261,
     "end_time": "2021-08-04T05:38:02.595582",
     "exception": false,
     "start_time": "2021-08-04T05:38:02.552972",
     "status": "completed"
    },
    "tags": []
   },
   "source": [
    "The distribution is almost even with 50-50 division between the samples with and without gravitational waves signal. In reality though, usually this is not the case, since the gravitational waves are such rare events, there will be huge imbalance between the two. But since this data was generated using simulation by the competition hosts, we use it as it is."
   ]
  },
  {
   "cell_type": "code",
   "execution_count": 9,
   "id": "4bb0760c",
   "metadata": {},
   "outputs": [],
   "source": [
    "# let's define some signal parameters\n",
    "sample_rate = 2048 # data is provided at 2048 Hz\n",
    "signal_length = 2 # each signal lasts 2 s\n",
    "fmin, fmax = 20, 1024 # filter above 20 Hz, and max 1024 Hz (Nyquist freq = sample_rate/2)\n",
    "hop_length = 64 # hop length parameter for the stft\n",
    "\n",
    "# model compile params\n",
    "batch_size = 250 # size in which data is processed and trained at-once in model\n",
    "epochs = 3 # number of epochs (keep low as dataset is quite large 3~5 is enough as observed)"
   ]
  },
  {
   "cell_type": "markdown",
   "id": "69594dab",
   "metadata": {
    "papermill": {
     "duration": 0.044965,
     "end_time": "2021-08-04T05:38:02.686662",
     "exception": false,
     "start_time": "2021-08-04T05:38:02.641697",
     "status": "completed"
    },
    "tags": []
   },
   "source": [
    "### Creating TF Data pipeline\n",
    "\n",
    "Next, we create the TensorFlow input data pipeline. This is crucial as loading such a huge dataset can create a bottleneck on the entire workflow and can cause memory overload.\n",
    "\n",
    "#### Fetch & Preprocess Data"
   ]
  },
  {
   "cell_type": "code",
   "execution_count": 10,
   "id": "2f2e5135",
   "metadata": {
    "execution": {
     "iopub.execute_input": "2021-08-04T05:38:02.782511Z",
     "iopub.status.busy": "2021-08-04T05:38:02.781907Z",
     "iopub.status.idle": "2021-08-04T05:38:02.785977Z",
     "shell.execute_reply": "2021-08-04T05:38:02.785581Z",
     "shell.execute_reply.started": "2021-08-04T01:03:33.736021Z"
    },
    "papermill": {
     "duration": 0.055183,
     "end_time": "2021-08-04T05:38:02.786106",
     "exception": false,
     "start_time": "2021-08-04T05:38:02.730923",
     "status": "completed"
    },
    "tags": []
   },
   "outputs": [],
   "source": [
    "# function to return the npy file corresponding to the id\n",
    "def get_npy_filepath(id_, is_train=True):\n",
    "    path = ''\n",
    "    if is_train:\n",
    "        return f'../input/g2net-gravitational-wave-detection/train/{id_[0]}/{id_[1]}/{id_[2]}/{id_}.npy'\n",
    "    else:\n",
    "        return f'../input/g2net-gravitational-wave-detection/test/{id_[0]}/{id_[1]}/{id_[2]}/{id_}.npy'"
   ]
  },
  {
   "cell_type": "code",
   "execution_count": 12,
   "id": "edc03436",
   "metadata": {
    "execution": {
     "iopub.execute_input": "2021-08-04T05:38:02.982166Z",
     "iopub.status.busy": "2021-08-04T05:38:02.981346Z",
     "iopub.status.idle": "2021-08-04T05:38:03.023116Z",
     "shell.execute_reply": "2021-08-04T05:38:03.022432Z",
     "shell.execute_reply.started": "2021-08-04T01:03:33.758764Z"
    },
    "papermill": {
     "duration": 0.095146,
     "end_time": "2021-08-04T05:38:03.023290",
     "exception": false,
     "start_time": "2021-08-04T05:38:02.928144",
     "status": "completed"
    },
    "tags": []
   },
   "outputs": [
    {
     "name": "stdout",
     "output_type": "stream",
     "text": [
      "CQT kernels created, time used = 0.0367 seconds\n"
     ]
    },
    {
     "name": "stderr",
     "output_type": "stream",
     "text": [
      "/opt/conda/lib/python3.7/site-packages/nnAudio/utils.py:326: SyntaxWarning: If fmax is given, n_bins will be ignored\n",
      "  warnings.warn('If fmax is given, n_bins will be ignored',SyntaxWarning)\n"
     ]
    }
   ],
   "source": [
    "# Define the Constant Q-Transform\n",
    "cq_transform = CQT1992v2(sr=sample_rate, fmin=fmin, fmax=fmax, hop_length=hop_length)\n",
    "\n",
    "# check if GPU enabled, then run the transform on GPU for faster execution\n",
    "# if tf.test.is_gpu_available():\n",
    "#     cq_transform = cq_transform.to('cuda')"
   ]
  },
  {
   "cell_type": "code",
   "execution_count": 13,
   "id": "9d41a0d8",
   "metadata": {
    "execution": {
     "iopub.execute_input": "2021-08-04T05:38:03.123951Z",
     "iopub.status.busy": "2021-08-04T05:38:03.123393Z",
     "iopub.status.idle": "2021-08-04T05:38:03.127264Z",
     "shell.execute_reply": "2021-08-04T05:38:03.126844Z",
     "shell.execute_reply.started": "2021-08-04T01:03:33.825188Z"
    },
    "papermill": {
     "duration": 0.054878,
     "end_time": "2021-08-04T05:38:03.127396",
     "exception": false,
     "start_time": "2021-08-04T05:38:03.072518",
     "status": "completed"
    },
    "tags": []
   },
   "outputs": [],
   "source": [
    "# function to load the file, preprocess, return the respective Constant Q-transform\n",
    "def parse_function(id_path):\n",
    "    # load the npy file\n",
    "    signals = np.load(id_path.numpy())\n",
    "    \n",
    "    # loop through each signal\n",
    "    for i in range(signals.shape[0]):\n",
    "        # normalize the signal data\n",
    "        signals[i] /= np.max(signals[i])\n",
    "    \n",
    "    # stack the arrays into a single vector\n",
    "    signals = np.hstack(signals)\n",
    "    \n",
    "    # convert the signals to torch.tensor to pass to CQT\n",
    "    signals = torch.from_numpy(signals).float()\n",
    "    \n",
    "    # get the CQT\n",
    "    image = cq_transform(signals)\n",
    "    \n",
    "    # conver the image from torch.tensor to array\n",
    "    image = np.array(image)\n",
    "    \n",
    "    # transpose the image to get right orientation\n",
    "    image = np.transpose(image,(1,2,0))\n",
    "    \n",
    "    # conver the image to tf.tensor and return\n",
    "    return tf.convert_to_tensor(image)"
   ]
  },
  {
   "cell_type": "code",
   "execution_count": 14,
   "id": "c174cf49",
   "metadata": {
    "execution": {
     "iopub.execute_input": "2021-08-04T05:38:03.280738Z",
     "iopub.status.busy": "2021-08-04T05:38:03.280032Z",
     "iopub.status.idle": "2021-08-04T05:38:09.104879Z",
     "shell.execute_reply": "2021-08-04T05:38:09.105327Z",
     "shell.execute_reply.started": "2021-08-04T01:03:33.834417Z"
    },
    "papermill": {
     "duration": 5.932071,
     "end_time": "2021-08-04T05:38:09.105492",
     "exception": false,
     "start_time": "2021-08-04T05:38:03.173421",
     "status": "completed"
    },
    "tags": []
   },
   "outputs": [
    {
     "name": "stdout",
     "output_type": "stream",
     "text": [
      "(69, 193, 1)\n"
     ]
    },
    {
     "data": {
      "text/plain": [
       "<matplotlib.image.AxesImage at 0x7f54fba87c90>"
      ]
     },
     "execution_count": 14,
     "metadata": {},
     "output_type": "execute_result"
    },
    {
     "data": {
      "image/png": "[encoded data removed]",
      "text/plain": [
       "<Figure size 432x288 with 1 Axes>"
      ]
     },
     "metadata": {
      "needs_background": "light"
     },
     "output_type": "display_data"
    }
   ],
   "source": [
    "# plot a sample\n",
    "image = parse_function(tf.convert_to_tensor(get_npy_filepath(train['id'].values[0])))\n",
    "print(image.shape)\n",
    "plt.imshow(image)"
   ]
  },
  {
   "cell_type": "code",
   "execution_count": 15,
   "id": "af5eed5f",
   "metadata": {
    "execution": {
     "iopub.execute_input": "2021-08-04T05:38:09.206502Z",
     "iopub.status.busy": "2021-08-04T05:38:09.205708Z",
     "iopub.status.idle": "2021-08-04T05:38:09.209817Z",
     "shell.execute_reply": "2021-08-04T05:38:09.209403Z",
     "shell.execute_reply.started": "2021-08-04T01:03:34.184435Z"
    },
    "papermill": {
     "duration": 0.053183,
     "end_time": "2021-08-04T05:38:09.209934",
     "exception": false,
     "start_time": "2021-08-04T05:38:09.156751",
     "status": "completed"
    },
    "tags": []
   },
   "outputs": [],
   "source": [
    "# From the Constant Q-Transform that we got, get the shape\n",
    "input_shape = (69, 193, 1)"
   ]
  },
  {
   "cell_type": "code",
   "execution_count": 16,
   "id": "0a3152de",
   "metadata": {
    "execution": {
     "iopub.execute_input": "2021-08-04T05:38:09.419195Z",
     "iopub.status.busy": "2021-08-04T05:38:09.418340Z",
     "iopub.status.idle": "2021-08-04T05:38:09.421551Z",
     "shell.execute_reply": "2021-08-04T05:38:09.421083Z",
     "shell.execute_reply.started": "2021-08-04T01:03:34.190788Z"
    },
    "papermill": {
     "duration": 0.063965,
     "end_time": "2021-08-04T05:38:09.421668",
     "exception": false,
     "start_time": "2021-08-04T05:38:09.357703",
     "status": "completed"
    },
    "tags": []
   },
   "outputs": [],
   "source": [
    "# Get the feature ids and target\n",
    "X = train[['id']]\n",
    "y = train['target'].astype('int8').values"
   ]
  },
  {
   "cell_type": "code",
   "execution_count": 17,
   "id": "d0cdf949",
   "metadata": {
    "execution": {
     "iopub.execute_input": "2021-08-04T05:38:09.525744Z",
     "iopub.status.busy": "2021-08-04T05:38:09.524756Z",
     "iopub.status.idle": "2021-08-04T05:38:09.968907Z",
     "shell.execute_reply": "2021-08-04T05:38:09.968382Z",
     "shell.execute_reply.started": "2021-08-04T01:03:34.208981Z"
    },
    "papermill": {
     "duration": 0.496297,
     "end_time": "2021-08-04T05:38:09.969067",
     "exception": false,
     "start_time": "2021-08-04T05:38:09.472770",
     "status": "completed"
    },
    "tags": []
   },
   "outputs": [],
   "source": [
    "# Split the training IDs into training & validation datasets\n",
    "X_train, X_valid, y_train, y_valid = train_test_split(X, y, random_state=42, stratify=y)\n",
    "\n",
    "# Assign the test IDs\n",
    "X_test = sample_sub[['id']]"
   ]
  },
  {
   "cell_type": "code",
   "execution_count": 18,
   "id": "971b3589",
   "metadata": {
    "execution": {
     "iopub.execute_input": "2021-08-04T05:38:10.072775Z",
     "iopub.status.busy": "2021-08-04T05:38:10.070931Z",
     "iopub.status.idle": "2021-08-04T05:38:10.073606Z",
     "shell.execute_reply": "2021-08-04T05:38:10.074102Z",
     "shell.execute_reply.started": "2021-08-04T01:03:34.235128Z"
    },
    "papermill": {
     "duration": 0.056315,
     "end_time": "2021-08-04T05:38:10.074254",
     "exception": false,
     "start_time": "2021-08-04T05:38:10.017939",
     "status": "completed"
    },
    "tags": []
   },
   "outputs": [],
   "source": [
    "# the tf_function which is called in the data pipeline. This runs as TF function\n",
    "def tf_parse_function(id_path, y=None):\n",
    "    # pass the id_path to the py_function parse_function\n",
    "    [x] = tf.py_function(func=parse_function, inp=[id_path], Tout=[tf.float32])\n",
    "    \n",
    "#     x.set_shape(signal_shape) # signal_shape\n",
    "    x = tf.ensure_shape(x, input_shape)\n",
    "    \n",
    "    # if train/valid then return x, y; for test only return x\n",
    "    if y is None:\n",
    "        return x\n",
    "    else:\n",
    "        return x, y"
   ]
  },
  {
   "cell_type": "markdown",
   "id": "25e9c2c8",
   "metadata": {},
   "source": [
    "#### Define the dataset objects"
   ]
  },
  {
   "cell_type": "code",
   "execution_count": 19,
   "id": "b9fc1f72",
   "metadata": {
    "execution": {
     "iopub.execute_input": "2021-08-04T05:38:10.175795Z",
     "iopub.status.busy": "2021-08-04T05:38:10.174801Z",
     "iopub.status.idle": "2021-08-04T05:38:10.713299Z",
     "shell.execute_reply": "2021-08-04T05:38:10.712742Z",
     "shell.execute_reply.started": "2021-08-04T01:23:57.688669Z"
    },
    "papermill": {
     "duration": 0.590594,
     "end_time": "2021-08-04T05:38:10.713448",
     "exception": false,
     "start_time": "2021-08-04T05:38:10.122854",
     "status": "completed"
    },
    "tags": []
   },
   "outputs": [],
   "source": [
    "# train dataset\n",
    "# Get the data filepaths as tensor_slices\n",
    "train_dataset = tf.data.Dataset.from_tensor_slices((X_train['id'].apply(get_npy_filepath).values, y_train))\n",
    "\n",
    "# shuffle the dataset\n",
    "train_dataset = train_dataset.shuffle(len(X_train))\n",
    "\n",
    "# apply the map method to tf_parse_function()\n",
    "train_dataset = train_dataset.map(tf_parse_function, num_parallel_calls=tf.data.AUTOTUNE)\n",
    "\n",
    "# set batch size of the dataset\n",
    "train_dataset = train_dataset.batch(batch_size)\n",
    "\n",
    "# prefetch the data\n",
    "train_dataset = train_dataset.prefetch(tf.data.AUTOTUNE)"
   ]
  },
  {
   "cell_type": "code",
   "execution_count": 20,
   "id": "5c58e203",
   "metadata": {
    "execution": {
     "iopub.execute_input": "2021-08-04T05:38:10.819169Z",
     "iopub.status.busy": "2021-08-04T05:38:10.818141Z",
     "iopub.status.idle": "2021-08-04T05:38:10.966069Z",
     "shell.execute_reply": "2021-08-04T05:38:10.965544Z",
     "shell.execute_reply.started": "2021-08-04T01:23:57.975282Z"
    },
    "papermill": {
     "duration": 0.203798,
     "end_time": "2021-08-04T05:38:10.966200",
     "exception": false,
     "start_time": "2021-08-04T05:38:10.762402",
     "status": "completed"
    },
    "tags": []
   },
   "outputs": [],
   "source": [
    "# valid dataset\n",
    "# Get the data filepaths as tensor_slices\n",
    "valid_dataset = tf.data.Dataset.from_tensor_slices((X_valid['id'].apply(get_npy_filepath).values, y_valid))\n",
    "\n",
    "# apply the map method to tf_parse_function()\n",
    "valid_dataset = valid_dataset.map(tf_parse_function, num_parallel_calls=tf.data.AUTOTUNE)\n",
    "\n",
    "# set batch size of the dataset\n",
    "valid_dataset = valid_dataset.batch(batch_size)\n",
    "\n",
    "# prefetch the data\n",
    "valid_dataset = valid_dataset.prefetch(tf.data.AUTOTUNE)"
   ]
  },
  {
   "cell_type": "code",
   "execution_count": 21,
   "id": "3276f52a",
   "metadata": {
    "execution": {
     "iopub.execute_input": "2021-08-04T05:38:11.073198Z",
     "iopub.status.busy": "2021-08-04T05:38:11.072365Z",
     "iopub.status.idle": "2021-08-04T05:38:11.317216Z",
     "shell.execute_reply": "2021-08-04T05:38:11.316748Z",
     "shell.execute_reply.started": "2021-08-04T01:23:58.302996Z"
    },
    "papermill": {
     "duration": 0.305399,
     "end_time": "2021-08-04T05:38:11.317357",
     "exception": false,
     "start_time": "2021-08-04T05:38:11.011958",
     "status": "completed"
    },
    "tags": []
   },
   "outputs": [],
   "source": [
    "# test dataset\n",
    "# Get the data filepaths as tensor_slices\n",
    "test_dataset = tf.data.Dataset.from_tensor_slices((X_test['id'].apply(get_npy_filepath, is_train=False).values))\n",
    "\n",
    "# apply the map method to tf_parse_function()\n",
    "test_dataset = test_dataset.map(tf_parse_function, num_parallel_calls=tf.data.AUTOTUNE)\n",
    "\n",
    "# set batch size of the dataset\n",
    "test_dataset = test_dataset.batch(batch_size)\n",
    "\n",
    "# prefetch the data\n",
    "test_dataset = test_dataset.prefetch(tf.data.AUTOTUNE)"
   ]
  },
  {
   "cell_type": "markdown",
   "id": "ad283fcb",
   "metadata": {
    "papermill": {
     "duration": 0.048339,
     "end_time": "2021-08-04T05:38:11.413630",
     "exception": false,
     "start_time": "2021-08-04T05:38:11.365291",
     "status": "completed"
    },
    "tags": []
   },
   "source": [
    "### Modelling\n",
    "\n",
    "Now, we can start building the models. As mentioned above, we will define a simple CNN model first, followed by a SOTA EfficientNet model."
   ]
  },
  {
   "cell_type": "code",
   "execution_count": 22,
   "id": "9a7c4132",
   "metadata": {
    "execution": {
     "iopub.execute_input": "2021-08-04T05:38:11.515195Z",
     "iopub.status.busy": "2021-08-04T05:38:11.514626Z",
     "iopub.status.idle": "2021-08-04T05:38:15.620126Z",
     "shell.execute_reply": "2021-08-04T05:38:15.619077Z",
     "shell.execute_reply.started": "2021-08-04T01:03:34.499905Z"
    },
    "papermill": {
     "duration": 4.160398,
     "end_time": "2021-08-04T05:38:15.620262",
     "exception": false,
     "start_time": "2021-08-04T05:38:11.459864",
     "status": "completed"
    },
    "tags": []
   },
   "outputs": [],
   "source": [
    "# Get the signal input shape\n",
    "for x, _ in train_dataset.take(1):\n",
    "    input_shape = x.shape[1:]"
   ]
  },
  {
   "cell_type": "code",
   "execution_count": 23,
   "id": "342cdda9",
   "metadata": {
    "execution": {
     "iopub.execute_input": "2021-08-04T05:38:15.732981Z",
     "iopub.status.busy": "2021-08-04T05:38:15.731339Z",
     "iopub.status.idle": "2021-08-04T05:38:15.733659Z",
     "shell.execute_reply": "2021-08-04T05:38:15.734102Z",
     "shell.execute_reply.started": "2021-08-04T01:39:10.049232Z"
    },
    "papermill": {
     "duration": 0.062281,
     "end_time": "2021-08-04T05:38:15.734254",
     "exception": false,
     "start_time": "2021-08-04T05:38:15.671973",
     "status": "completed"
    },
    "tags": []
   },
   "outputs": [],
   "source": [
    "# function to print the learning curves for the models\n",
    "# adapted from https://www.tensorflow.org/tutorials/images/transfer_learning#learning_curves\n",
    "def learning_curves(history, model='cnn'):\n",
    "    acc = history.history['accuracy']\n",
    "    val_acc = history.history['val_accuracy']\n",
    "\n",
    "    loss = history.history['loss']\n",
    "    val_loss = history.history['val_loss']\n",
    "\n",
    "    if model == 'efn':\n",
    "        auc = history.history['auc_2']\n",
    "        val_auc = history.history['val_auc_2']\n",
    "    else:\n",
    "        auc = history.history['auc']\n",
    "        val_auc = history.history['val_auc']\n",
    "    \n",
    "    plt.figure(figsize=(12, 12))    \n",
    "    plt.subplot(3, 1, 1)\n",
    "    plt.plot(auc, label='Training AUC')\n",
    "    plt.plot(val_auc, label='Validation AUC')\n",
    "    plt.legend(loc='upper right')\n",
    "    plt.ylabel('Cross Entropy')\n",
    "    plt.ylim([0,1.0])\n",
    "    plt.title('Training and Validation AUC')\n",
    "    plt.xlabel('epoch')\n",
    "    plt.show()\n",
    "    \n",
    "    plt.subplot(3, 1, 2)\n",
    "    plt.plot(acc, label='Training Accuracy')\n",
    "    plt.plot(val_acc, label='Validation Accuracy')\n",
    "    plt.legend(loc='lower right')\n",
    "    plt.ylabel('Accuracy')\n",
    "    plt.ylim([min(plt.ylim()),1])\n",
    "    plt.title('Training and Validation Accuracy')\n",
    "    plt.show()\n",
    "\n",
    "    plt.subplot(3, 1, 3)\n",
    "    plt.plot(loss, label='Training Loss')\n",
    "    plt.plot(val_loss, label='Validation Loss')\n",
    "    plt.legend(loc='upper right')\n",
    "    plt.ylabel('Cross Entropy')\n",
    "    plt.title('Training and Validation Loss')\n",
    "    plt.xlabel('epoch')\n",
    "    plt.show()"
   ]
  },
  {
   "cell_type": "markdown",
   "id": "74390d10",
   "metadata": {
    "papermill": {
     "duration": 0.047536,
     "end_time": "2021-08-04T05:38:15.834148",
     "exception": false,
     "start_time": "2021-08-04T05:38:15.786612",
     "status": "completed"
    },
    "tags": []
   },
   "source": [
    "#### Baseline Model\n",
    "\n",
    "Let's build and train a simple CNN model as our baseline model before we build more advanced models."
   ]
  },
  {
   "cell_type": "code",
   "execution_count": 24,
   "id": "660651c6",
   "metadata": {
    "execution": {
     "iopub.execute_input": "2021-08-04T05:38:15.943778Z",
     "iopub.status.busy": "2021-08-04T05:38:15.943064Z",
     "iopub.status.idle": "2021-08-04T05:38:16.317893Z",
     "shell.execute_reply": "2021-08-04T05:38:16.318439Z",
     "shell.execute_reply.started": "2021-08-04T01:42:20.734543Z"
    },
    "papermill": {
     "duration": 0.43392,
     "end_time": "2021-08-04T05:38:16.318625",
     "exception": false,
     "start_time": "2021-08-04T05:38:15.884705",
     "status": "completed"
    },
    "tags": []
   },
   "outputs": [],
   "source": [
    "# Instantiate the Sequential model\n",
    "model_cnn = Sequential(name='CNN_model')\n",
    "\n",
    "# Add the first Convoluted2D layer w/ input_shape & MaxPooling2D layer followed by that\n",
    "model_cnn.add(Conv2D(filters=16,\n",
    "                     kernel_size=3,\n",
    "                     input_shape=input_shape,\n",
    "                     activation='relu',\n",
    "                     name='Conv_01'))\n",
    "model_cnn.add(MaxPooling2D(pool_size=2, name='Pool_01'))\n",
    "\n",
    "# Second pair of Conv1D and MaxPooling1D layers\n",
    "model_cnn.add(Conv2D(filters=32,\n",
    "                     kernel_size=3,\n",
    "                     input_shape=input_shape,\n",
    "                     activation='relu',\n",
    "                     name='Conv_02'))\n",
    "model_cnn.add(MaxPooling2D(pool_size=2, name='Pool_02'))\n",
    "\n",
    "# Third pair of Conv1D and MaxPooling1D layers\n",
    "model_cnn.add(Conv2D(filters=64,\n",
    "                     kernel_size=3,\n",
    "                     input_shape=input_shape,\n",
    "                     activation='relu',\n",
    "                     name='Conv_03'))\n",
    "model_cnn.add(MaxPooling2D(pool_size=2, name='Pool_03'))\n",
    "\n",
    "# Add the Flatten layer\n",
    "model_cnn.add(Flatten(name='Flatten'))\n",
    "\n",
    "# Add the Dense layers\n",
    "model_cnn.add(Dense(units=512,\n",
    "                activation='relu',\n",
    "                name='Dense_01'))\n",
    "model_cnn.add(Dense(units=64,\n",
    "                activation='relu',\n",
    "                name='Dense_02'))\n",
    "\n",
    "# Add the final Output layer\n",
    "model_cnn.add(Dense(1, activation='sigmoid', name='Output'))"
   ]
  },
  {
   "cell_type": "code",
   "execution_count": 25,
   "id": "262c8701",
   "metadata": {
    "execution": {
     "iopub.execute_input": "2021-08-04T05:38:16.430304Z",
     "iopub.status.busy": "2021-08-04T05:38:16.429539Z",
     "iopub.status.idle": "2021-08-04T05:38:16.434975Z",
     "shell.execute_reply": "2021-08-04T05:38:16.434326Z",
     "shell.execute_reply.started": "2021-08-04T01:42:21.213943Z"
    },
    "papermill": {
     "duration": 0.067416,
     "end_time": "2021-08-04T05:38:16.435131",
     "exception": false,
     "start_time": "2021-08-04T05:38:16.367715",
     "status": "completed"
    },
    "tags": []
   },
   "outputs": [
    {
     "name": "stdout",
     "output_type": "stream",
     "text": [
      "Model: \"CNN_model\"\n",
      "_________________________________________________________________\n",
      "Layer (type)                 Output Shape              Param #   \n",
      "=================================================================\n",
      "Conv_01 (Conv2D)             (None, 67, 191, 16)       160       \n",
      "_________________________________________________________________\n",
      "Pool_01 (MaxPooling2D)       (None, 33, 95, 16)        0         \n",
      "_________________________________________________________________\n",
      "Conv_02 (Conv2D)             (None, 31, 93, 32)        4640      \n",
      "_________________________________________________________________\n",
      "Pool_02 (MaxPooling2D)       (None, 15, 46, 32)        0         \n",
      "_________________________________________________________________\n",
      "Conv_03 (Conv2D)             (None, 13, 44, 64)        18496     \n",
      "_________________________________________________________________\n",
      "Pool_03 (MaxPooling2D)       (None, 6, 22, 64)         0         \n",
      "_________________________________________________________________\n",
      "Flatten (Flatten)            (None, 8448)              0         \n",
      "_________________________________________________________________\n",
      "Dense_01 (Dense)             (None, 512)               4325888   \n",
      "_________________________________________________________________\n",
      "Dense_02 (Dense)             (None, 64)                32832     \n",
      "_________________________________________________________________\n",
      "Output (Dense)               (None, 1)                 65        \n",
      "=================================================================\n",
      "Total params: 4,382,081\n",
      "Trainable params: 4,382,081\n",
      "Non-trainable params: 0\n",
      "_________________________________________________________________\n"
     ]
    }
   ],
   "source": [
    "# Display the CNN model architecture\n",
    "model_cnn.summary()"
   ]
  },
  {
   "cell_type": "code",
   "execution_count": 26,
   "id": "505f1c6d",
   "metadata": {
    "execution": {
     "iopub.execute_input": "2021-08-04T05:38:16.552009Z",
     "iopub.status.busy": "2021-08-04T05:38:16.551177Z",
     "iopub.status.idle": "2021-08-04T05:38:16.565937Z",
     "shell.execute_reply": "2021-08-04T05:38:16.565360Z",
     "shell.execute_reply.started": "2021-08-04T01:42:39.099903Z"
    },
    "papermill": {
     "duration": 0.079597,
     "end_time": "2021-08-04T05:38:16.566078",
     "exception": false,
     "start_time": "2021-08-04T05:38:16.486481",
     "status": "completed"
    },
    "tags": []
   },
   "outputs": [],
   "source": [
    "# compile the model with following parameters\n",
    "# Optimizer: Adam (learning_rate=0.0001)\n",
    "# loss: binary_crossentropy\n",
    "# metrics: accuracy/AUC\n",
    "model_cnn.compile(optimizer=Adam(learning_rate=0.0001),\n",
    "                  loss='binary_crossentropy',\n",
    "                  metrics=[[AUC(), 'accuracy']])"
   ]
  },
  {
   "cell_type": "code",
   "execution_count": 27,
   "id": "6a45af53",
   "metadata": {
    "execution": {
     "iopub.execute_input": "2021-08-04T05:38:16.677039Z",
     "iopub.status.busy": "2021-08-04T05:38:16.676081Z",
     "iopub.status.idle": "2021-08-04T08:25:28.904976Z",
     "shell.execute_reply": "2021-08-04T08:25:28.905600Z",
     "shell.execute_reply.started": "2021-08-04T01:42:25.689260Z"
    },
    "papermill": {
     "duration": 10032.288685,
     "end_time": "2021-08-04T08:25:28.906437",
     "exception": false,
     "start_time": "2021-08-04T05:38:16.617752",
     "status": "completed"
    },
    "tags": []
   },
   "outputs": [
    {
     "name": "stdout",
     "output_type": "stream",
     "text": [
      "Epoch 1/3\n",
      "1680/1680 [==============================] - 3253s 2s/step - loss: 0.5712 - auc: 0.7465 - accuracy: 0.6762 - val_loss: 0.4825 - val_auc: 0.8295 - val_accuracy: 0.7556\n",
      "Epoch 2/3\n",
      "1680/1680 [==============================] - 3364s 2s/step - loss: 0.4853 - auc: 0.8261 - accuracy: 0.7549 - val_loss: 0.4811 - val_auc: 0.8360 - val_accuracy: 0.7550\n",
      "Epoch 3/3\n",
      "1680/1680 [==============================] - 3414s 2s/step - loss: 0.4753 - auc: 0.8325 - accuracy: 0.7614 - val_loss: 0.4670 - val_auc: 0.8388 - val_accuracy: 0.7667\n"
     ]
    }
   ],
   "source": [
    "# Fit the data\n",
    "history_cnn = model_cnn.fit(x=train_dataset,\n",
    "                            epochs=epochs,\n",
    "                            validation_data=valid_dataset,\n",
    "                            batch_size=batch_size,\n",
    "                            verbose=1)"
   ]
  },
  {
   "cell_type": "code",
   "execution_count": 28,
   "id": "54831658",
   "metadata": {
    "execution": {
     "iopub.execute_input": "2021-08-04T08:25:31.579181Z",
     "iopub.status.busy": "2021-08-04T08:25:31.578497Z",
     "iopub.status.idle": "2021-08-04T08:25:31.730254Z",
     "shell.execute_reply": "2021-08-04T08:25:31.729350Z",
     "shell.execute_reply.started": "2021-08-04T01:05:51.350660Z"
    },
    "papermill": {
     "duration": 1.502774,
     "end_time": "2021-08-04T08:25:31.730416",
     "exception": false,
     "start_time": "2021-08-04T08:25:30.227642",
     "status": "completed"
    },
    "tags": []
   },
   "outputs": [],
   "source": [
    "# save the model\n",
    "model_cnn.save('./model_CNN.h5')"
   ]
  },
  {
   "cell_type": "markdown",
   "id": "012b7b66",
   "metadata": {
    "papermill": {
     "duration": 1.312992,
     "end_time": "2021-08-04T08:25:37.295498",
     "exception": false,
     "start_time": "2021-08-04T08:25:35.982506",
     "status": "completed"
    },
    "tags": []
   },
   "source": [
    "The baseline model seems to be converging well only after about 3 epochs. But as you can see, it takes almost about an hour to train each epoch, we can only say that the model can be improved with further training and fine-tuning the structure. At the end of 3rd epoch, we see 0.83 AUC score and 0.76 accuracy for training dataset, while 0.84 AUC score and 0.77 accuracy for the validation dataset."
   ]
  },
  {
   "cell_type": "markdown",
   "id": "8155d321",
   "metadata": {
    "papermill": {
     "duration": 1.362329,
     "end_time": "2021-08-04T08:25:45.349583",
     "exception": false,
     "start_time": "2021-08-04T08:25:43.987254",
     "status": "completed"
    },
    "tags": []
   },
   "source": [
    "#### SOTA Model\n",
    "\n",
    "Our baseline model performed quite well actually, but it was a very simple model which we trained for our particular dataset from scratch, however, there are more advanced and pre-trained _state-of-the-art_ models that we can try to use for our classification task. _EfficientNet_ is one such model architecture that has been researched extensively recently, and has achieved _state-of-the-art_ level accuracy as compared to other models on ImageNet data with significantly fewer number of parameters, which means faster training times. Although, the Constant Q-Transforms we use aren't exactly images, but these models can be \"retrained\" to adapt to other images with large datasets. And as we have a large dataset, we can use these models, with and without pretrained weights to see if we get better results than our baseline. This model is run in another notebook where we save the model, but we can simply load/attach this model into this notebook as input and perform the predictions.\n",
    "\n",
    "**Note:** Check the local directory and adjust accordingly for filepaths, before running."
   ]
  },
  {
   "cell_type": "code",
   "execution_count": null,
   "id": "85b8ad25",
   "metadata": {},
   "outputs": [],
   "source": [
    "# load the trained EfficientNet model from the other notebook\n",
    "model_efn = tf.keras.models.load_model('../assets/model_EFN.h5')"
   ]
  },
  {
   "cell_type": "code",
   "execution_count": null,
   "id": "8147d7d1",
   "metadata": {},
   "outputs": [],
   "source": []
  },
  {
   "cell_type": "code",
   "execution_count": 30,
   "id": "76107d76",
   "metadata": {
    "execution": {
     "iopub.execute_input": "2021-08-04T08:25:48.441709Z",
     "iopub.status.busy": "2021-08-04T08:25:48.441016Z",
     "iopub.status.idle": "2021-08-04T08:25:51.092070Z",
     "shell.execute_reply": "2021-08-04T08:25:51.091588Z",
     "shell.execute_reply.started": "2021-08-04T01:24:12.132891Z"
    },
    "papermill": {
     "duration": 4.098004,
     "end_time": "2021-08-04T08:25:51.092205",
     "exception": false,
     "start_time": "2021-08-04T08:25:46.994201",
     "status": "completed"
    },
    "tags": []
   },
   "outputs": [
    {
     "name": "stdout",
     "output_type": "stream",
     "text": [
      "Downloading data from https://storage.googleapis.com/keras-applications/efficientnetb0_notop.h5\n",
      "16711680/16705208 [==============================] - 0s 0us/step\n"
     ]
    }
   ],
   "source": [
    "# Instantiate the Sequential model\n",
    "model_efn = Sequential(name='EfficientNet_model')\n",
    "\n",
    "# Add the first Convoluted2D layer w/ input_shape\n",
    "model_efn.add(Conv2D(filters=3,\n",
    "                     kernel_size=3,\n",
    "                     input_shape=input_shape,\n",
    "                     activation='relu',\n",
    "                     padding='same',\n",
    "                     name='Conv_01'))\n",
    "\n",
    "# Add the EfficientNetB0 model and a MaxPooling2D layer\n",
    "model_efn.add(EfficientNetB0(include_top=False,\n",
    "                             weights='imagenet'))\n",
    "# model_efn.add(MaxPooling2D(pool_size=2, name='Pool_01'))\n",
    "model_efn.add(GlobalAveragePooling2D())\n",
    "\n",
    "# Add the Flatten layer\n",
    "# model_efn.add(Flatten(name='Flatten'))\n",
    "\n",
    "# Add the Dense layers\n",
    "model_efn.add(Dense(units=64,\n",
    "                activation='relu',\n",
    "                name='Dense_01'))\n",
    "\n",
    "# Add the final Output layer\n",
    "model_efn.add(Dense(1, activation='sigmoid', name='Output'))"
   ]
  },
  {
   "cell_type": "code",
   "execution_count": 31,
   "id": "c9b7fb7a",
   "metadata": {
    "execution": {
     "iopub.execute_input": "2021-08-04T08:25:54.073111Z",
     "iopub.status.busy": "2021-08-04T08:25:54.066452Z",
     "iopub.status.idle": "2021-08-04T08:25:54.076011Z",
     "shell.execute_reply": "2021-08-04T08:25:54.075490Z",
     "shell.execute_reply.started": "2021-08-04T01:24:14.926382Z"
    },
    "papermill": {
     "duration": 1.457838,
     "end_time": "2021-08-04T08:25:54.076158",
     "exception": false,
     "start_time": "2021-08-04T08:25:52.618320",
     "status": "completed"
    },
    "tags": []
   },
   "outputs": [
    {
     "name": "stdout",
     "output_type": "stream",
     "text": [
      "Model: \"EfficientNet_model\"\n",
      "_________________________________________________________________\n",
      "Layer (type)                 Output Shape              Param #   \n",
      "=================================================================\n",
      "Conv_01 (Conv2D)             (None, 69, 193, 3)        30        \n",
      "_________________________________________________________________\n",
      "efficientnetb0 (Functional)  (None, None, None, 1280)  4049571   \n",
      "_________________________________________________________________\n",
      "global_average_pooling2d (Gl (None, 1280)              0         \n",
      "_________________________________________________________________\n",
      "Dense_01 (Dense)             (None, 64)                81984     \n",
      "_________________________________________________________________\n",
      "Output (Dense)               (None, 1)                 65        \n",
      "=================================================================\n",
      "Total params: 4,131,650\n",
      "Trainable params: 4,089,627\n",
      "Non-trainable params: 42,023\n",
      "_________________________________________________________________\n"
     ]
    }
   ],
   "source": [
    "# Display the EfficientNet model architecture\n",
    "model_efn.summary()"
   ]
  },
  {
   "cell_type": "code",
   "execution_count": 32,
   "id": "d98b8087",
   "metadata": {
    "execution": {
     "iopub.execute_input": "2021-08-04T08:25:57.810933Z",
     "iopub.status.busy": "2021-08-04T08:25:57.809915Z",
     "iopub.status.idle": "2021-08-04T08:25:57.826534Z",
     "shell.execute_reply": "2021-08-04T08:25:57.826018Z",
     "shell.execute_reply.started": "2021-08-04T01:24:14.959568Z"
    },
    "papermill": {
     "duration": 2.112815,
     "end_time": "2021-08-04T08:25:57.826659",
     "exception": false,
     "start_time": "2021-08-04T08:25:55.713844",
     "status": "completed"
    },
    "tags": []
   },
   "outputs": [],
   "source": [
    "# compile the model with following parameters\n",
    "# Optimizer: Adam (learning_rate=0.001)\n",
    "# loss: binary_crossentropy\n",
    "# metrics: accuracy/AUC\n",
    "model_efn.compile(optimizer=Adam(learning_rate=0.001),\n",
    "                  loss='binary_crossentropy',\n",
    "                  metrics=[[AUC(), 'accuracy']])"
   ]
  },
  {
   "cell_type": "code",
   "execution_count": 33,
   "id": "439c72ef",
   "metadata": {
    "execution": {
     "iopub.execute_input": "2021-08-04T08:26:00.723941Z",
     "iopub.status.busy": "2021-08-04T08:26:00.723316Z",
     "iopub.status.idle": "2021-08-04T11:33:57.402851Z",
     "shell.execute_reply": "2021-08-04T11:33:57.403321Z",
     "shell.execute_reply.started": "2021-08-04T01:24:15.952229Z"
    },
    "papermill": {
     "duration": 11278.127582,
     "end_time": "2021-08-04T11:33:57.404274",
     "exception": false,
     "start_time": "2021-08-04T08:25:59.276692",
     "status": "completed"
    },
    "tags": []
   },
   "outputs": [
    {
     "name": "stdout",
     "output_type": "stream",
     "text": [
      "Epoch 1/3\n",
      "1680/1680 [==============================] - 3667s 2s/step - loss: 0.5017 - auc_1: 0.8064 - accuracy: 0.7389 - val_loss: 0.7152 - val_auc_1: 0.5258 - val_accuracy: 0.5001\n",
      "Epoch 2/3\n",
      "1680/1680 [==============================] - 3739s 2s/step - loss: 0.4490 - auc_1: 0.8492 - accuracy: 0.7787 - val_loss: 48.8530 - val_auc_1: 0.5000 - val_accuracy: 0.4999\n",
      "Epoch 3/3\n",
      "1680/1680 [==============================] - 3867s 2s/step - loss: 0.4410 - auc_1: 0.8540 - accuracy: 0.7854 - val_loss: 121.6031 - val_auc_1: 0.5000 - val_accuracy: 0.4999\n"
     ]
    }
   ],
   "source": [
    "# Fit the data\n",
    "history_efn = model_efn.fit(x=train_dataset,\n",
    "                            epochs=epochs,\n",
    "                            validation_data=valid_dataset,\n",
    "                            batch_size=batch_size,\n",
    "                            verbose=1)"
   ]
  },
  {
   "cell_type": "code",
   "execution_count": 34,
   "id": "db6e0b09",
   "metadata": {
    "execution": {
     "iopub.execute_input": "2021-08-04T11:34:02.822456Z",
     "iopub.status.busy": "2021-08-04T11:34:02.812383Z",
     "iopub.status.idle": "2021-08-04T11:34:03.597564Z",
     "shell.execute_reply": "2021-08-04T11:34:03.596427Z",
     "shell.execute_reply.started": "2021-08-04T01:19:08.639109Z"
    },
    "papermill": {
     "duration": 3.579812,
     "end_time": "2021-08-04T11:34:03.597696",
     "exception": false,
     "start_time": "2021-08-04T11:34:00.017884",
     "status": "completed"
    },
    "tags": []
   },
   "outputs": [],
   "source": [
    "# save the model\n",
    "model_efn.save('./model_EFN.h5')"
   ]
  },
  {
   "cell_type": "markdown",
   "id": "f4c3b883",
   "metadata": {
    "papermill": {
     "duration": 2.857139,
     "end_time": "2021-08-04T11:34:20.740553",
     "exception": false,
     "start_time": "2021-08-04T11:34:17.883414",
     "status": "completed"
    },
    "tags": []
   },
   "source": []
  },
  {
   "cell_type": "markdown",
   "id": "0011c7d0",
   "metadata": {
    "papermill": {
     "duration": 2.940485,
     "end_time": "2021-08-04T11:34:37.918940",
     "exception": false,
     "start_time": "2021-08-04T11:34:34.978455",
     "status": "completed"
    },
    "tags": []
   },
   "source": [
    "#### Test Predictions\n",
    "\n",
    "Train the model on the validation data before making the final test predictions"
   ]
  },
  {
   "cell_type": "code",
   "execution_count": 36,
   "id": "6199f4e1",
   "metadata": {
    "execution": {
     "iopub.execute_input": "2021-08-04T11:34:43.247397Z",
     "iopub.status.busy": "2021-08-04T11:34:43.246802Z",
     "iopub.status.idle": "2021-08-04T12:15:10.382061Z",
     "shell.execute_reply": "2021-08-04T12:15:10.381405Z"
    },
    "papermill": {
     "duration": 2429.819136,
     "end_time": "2021-08-04T12:15:10.382260",
     "exception": false,
     "start_time": "2021-08-04T11:34:40.563124",
     "status": "completed"
    },
    "tags": []
   },
   "outputs": [
    {
     "name": "stdout",
     "output_type": "stream",
     "text": [
      "Epoch 1/3\n",
      "560/560 [==============================] - 803s 1s/step - loss: 0.4727 - auc: 0.8339 - accuracy: 0.7626\n",
      "Epoch 2/3\n",
      "560/560 [==============================] - 799s 1s/step - loss: 0.4708 - auc: 0.8352 - accuracy: 0.7639\n",
      "Epoch 3/3\n",
      "560/560 [==============================] - 822s 1s/step - loss: 0.4693 - auc: 0.8363 - accuracy: 0.7645\n"
     ]
    }
   ],
   "source": [
    "# Load the CNN model\n",
    "model_cnn = tf.keras.models.load_model('model_CNN.h5')\n",
    "\n",
    "# re-train the model on remaining validation data\n",
    "model_cnn.fit(x=valid_dataset, epochs=epochs, batch_size=batch_size, verbose=1)"
   ]
  },
  {
   "cell_type": "code",
   "execution_count": null,
   "id": "eb9a8ad3",
   "metadata": {},
   "outputs": [],
   "source": [
    "# save the model for future use\n",
    "model_cnn.save('./model_CNN_full.h5')\n",
    "\n",
    "# predict the test dataset using CNN\n",
    "preds_cnn = model_cnn.predict(test_dataset)"
   ]
  },
  {
   "cell_type": "code",
   "execution_count": 37,
   "id": "cc0a6866",
   "metadata": {
    "execution": {
     "iopub.execute_input": "2021-08-04T12:15:16.589274Z",
     "iopub.status.busy": "2021-08-04T12:15:16.583649Z",
     "iopub.status.idle": "2021-08-04T13:02:16.925268Z",
     "shell.execute_reply": "2021-08-04T13:02:16.926247Z"
    },
    "papermill": {
     "duration": 2823.432398,
     "end_time": "2021-08-04T13:02:16.927124",
     "exception": false,
     "start_time": "2021-08-04T12:15:13.494726",
     "status": "completed"
    },
    "tags": []
   },
   "outputs": [
    {
     "name": "stdout",
     "output_type": "stream",
     "text": [
      "Epoch 1/3\n",
      "560/560 [==============================] - 897s 2s/step - loss: 0.4405 - auc_1: 0.8539 - accuracy: 0.7843\n",
      "Epoch 2/3\n",
      "560/560 [==============================] - 972s 2s/step - loss: 0.4356 - auc_1: 0.8570 - accuracy: 0.7878\n",
      "Epoch 3/3\n",
      "560/560 [==============================] - 909s 2s/step - loss: 0.4306 - auc_1: 0.8602 - accuracy: 0.7911\n"
     ]
    }
   ],
   "source": [
    "# Load the # EfficientNet model\n",
    "model_efn = tf.keras.models.load_model('model_EFN.h5')\n",
    "\n",
    "# re-train the model on remaining validation data\n",
    "model_efn.fit(x=valid_dataset, epochs=epochs, batch_size=batch_size, verbose=1)"
   ]
  },
  {
   "cell_type": "code",
   "execution_count": null,
   "id": "8128cc0d",
   "metadata": {},
   "outputs": [],
   "source": [
    "# save the model for future use\n",
    "model_efn.save('./model_EFN_full.h5')\n",
    "\n",
    "# predict the test dataset using EfficientNet\n",
    "preds_efn = model_efn.predict(test_dataset)"
   ]
  },
  {
   "cell_type": "markdown",
   "id": "8a6289cc",
   "metadata": {},
   "source": [
    "Once the final models are ready and trained, we can make predictions on the test dataset."
   ]
  },
  {
   "cell_type": "markdown",
   "id": "f9df4f15",
   "metadata": {},
   "source": [
    "#### Kaggle submissions"
   ]
  },
  {
   "cell_type": "code",
   "execution_count": 40,
   "id": "3cd97dc0",
   "metadata": {
    "execution": {
     "iopub.execute_input": "2021-08-04T13:49:56.206315Z",
     "iopub.status.busy": "2021-08-04T13:49:56.205684Z",
     "iopub.status.idle": "2021-08-04T13:49:56.847929Z",
     "shell.execute_reply": "2021-08-04T13:49:56.847478Z",
     "shell.execute_reply.started": "2021-08-04T01:55:53.207910Z"
    },
    "papermill": {
     "duration": 5.021894,
     "end_time": "2021-08-04T13:49:56.848064",
     "exception": false,
     "start_time": "2021-08-04T13:49:51.826170",
     "status": "completed"
    },
    "tags": []
   },
   "outputs": [
    {
     "name": "stdout",
     "output_type": "stream",
     "text": [
      "File name: kaggle_sub_cnn.csv\n"
     ]
    }
   ],
   "source": [
    "#save the kaggle submission file\n",
    "get_kaggle_format(preds_cnn, model='cnn')"
   ]
  },
  {
   "cell_type": "code",
   "execution_count": 41,
   "id": "3d494d26",
   "metadata": {
    "execution": {
     "iopub.execute_input": "2021-08-04T13:50:04.455578Z",
     "iopub.status.busy": "2021-08-04T13:50:04.454711Z",
     "iopub.status.idle": "2021-08-04T13:50:05.038001Z",
     "shell.execute_reply": "2021-08-04T13:50:05.039165Z",
     "shell.execute_reply.started": "2021-08-04T01:55:53.240056Z"
    },
    "papermill": {
     "duration": 4.394905,
     "end_time": "2021-08-04T13:50:05.039425",
     "exception": false,
     "start_time": "2021-08-04T13:50:00.644520",
     "status": "completed"
    },
    "tags": []
   },
   "outputs": [
    {
     "name": "stdout",
     "output_type": "stream",
     "text": [
      "File name: kaggle_sub_efn.csv\n"
     ]
    }
   ],
   "source": [
    "#save the kaggle submission file\n",
    "get_kaggle_format(preds_efn, model='efn')"
   ]
  },
  {
   "cell_type": "markdown",
   "id": "6f67dffa",
   "metadata": {
    "papermill": {
     "duration": 3.824464,
     "end_time": "2021-08-04T13:50:12.979266",
     "exception": false,
     "start_time": "2021-08-04T13:50:09.154802",
     "status": "completed"
    },
    "tags": []
   },
   "source": [
    "### Evaluation"
   ]
  },
  {
   "cell_type": "markdown",
   "id": "3bb877d9",
   "metadata": {},
   "source": [
    "The most basic direct comparison between the two models, our simple CNN and the SOTA EfficientNet, is summarized in the following table.\n",
    "\n",
    "| Model | Train accuracy | Train AUC | Valid accuracy | Valid AUC | Test AUC (kaggle) |\n",
    "|-------|----------------|-----------|----------------|-----------|-------------------|\n",
    "|  CNN  |      0.76      |    0.83   |       0.77     |    0.83   |        0.84       |\n",
    "|EfficientNetB0| 0.78    |    0.85   |       0.xx     |    0.xx   |        0.8        |\n",
    "\n",
    "\n",
    "Since the predictions made by model are predicted values for the classes, we can look at the predicted values to judge how well our model did classifying those, specifically how confidently did the model predicted those targets. Closer the predicted probabilities of the target are to 0 and 1, we can say more confident the model output is."
   ]
  },
  {
   "cell_type": "code",
   "execution_count": 10,
   "id": "1202cf67",
   "metadata": {
    "papermill": {
     "duration": 3.56959,
     "end_time": "2021-08-04T13:50:43.270579",
     "exception": false,
     "start_time": "2021-08-04T13:50:39.700989",
     "status": "completed"
    },
    "tags": []
   },
   "outputs": [
    {
     "data": {
      "text/html": [
       "<div>\n",
       "<style scoped>\n",
       "    .dataframe tbody tr th:only-of-type {\n",
       "        vertical-align: middle;\n",
       "    }\n",
       "\n",
       "    .dataframe tbody tr th {\n",
       "        vertical-align: top;\n",
       "    }\n",
       "\n",
       "    .dataframe thead th {\n",
       "        text-align: right;\n",
       "    }\n",
       "</style>\n",
       "<table border=\"1\" class=\"dataframe\">\n",
       "  <thead>\n",
       "    <tr style=\"text-align: right;\">\n",
       "      <th></th>\n",
       "      <th>id</th>\n",
       "      <th>target</th>\n",
       "    </tr>\n",
       "  </thead>\n",
       "  <tbody>\n",
       "    <tr>\n",
       "      <th>0</th>\n",
       "      <td>00005bced6</td>\n",
       "      <td>0.999786</td>\n",
       "    </tr>\n",
       "    <tr>\n",
       "      <th>1</th>\n",
       "      <td>0000806717</td>\n",
       "      <td>0.800201</td>\n",
       "    </tr>\n",
       "    <tr>\n",
       "      <th>2</th>\n",
       "      <td>0000ef4fe1</td>\n",
       "      <td>0.296163</td>\n",
       "    </tr>\n",
       "    <tr>\n",
       "      <th>3</th>\n",
       "      <td>00020de251</td>\n",
       "      <td>0.485143</td>\n",
       "    </tr>\n",
       "    <tr>\n",
       "      <th>4</th>\n",
       "      <td>00024887b5</td>\n",
       "      <td>0.247406</td>\n",
       "    </tr>\n",
       "  </tbody>\n",
       "</table>\n",
       "</div>"
      ],
      "text/plain": [
       "           id    target\n",
       "0  00005bced6  0.999786\n",
       "1  0000806717  0.800201\n",
       "2  0000ef4fe1  0.296163\n",
       "3  00020de251  0.485143\n",
       "4  00024887b5  0.247406"
      ]
     },
     "execution_count": 10,
     "metadata": {},
     "output_type": "execute_result"
    }
   ],
   "source": [
    "# load the predictions into a dataframe\n",
    "df_preds_cnn = pd.read_csv('../assets/kaggle_sub_cnn.csv')\n",
    "df_preds_cnn.head()"
   ]
  },
  {
   "cell_type": "code",
   "execution_count": 6,
   "id": "f5e3f0c4",
   "metadata": {},
   "outputs": [
    {
     "data": {
      "text/plain": [
       "(226000, 2)"
      ]
     },
     "execution_count": 6,
     "metadata": {},
     "output_type": "execute_result"
    }
   ],
   "source": [
    "df_preds_cnn.shape"
   ]
  },
  {
   "cell_type": "code",
   "execution_count": 7,
   "id": "30ea9429",
   "metadata": {},
   "outputs": [
    {
     "data": {
      "text/plain": [
       "48979"
      ]
     },
     "execution_count": 7,
     "metadata": {},
     "output_type": "execute_result"
    }
   ],
   "source": [
    "df_preds_cnn[(df_preds_cnn['target'] >= 0.9) | (df_preds_cnn['target'] <= 0.1)]['target'].count()"
   ]
  },
  {
   "cell_type": "code",
   "execution_count": 8,
   "id": "1710e02f",
   "metadata": {
    "papermill": {
     "duration": 3.748946,
     "end_time": "2021-08-04T13:50:50.513204",
     "exception": false,
     "start_time": "2021-08-04T13:50:46.764258",
     "status": "completed"
    },
    "tags": []
   },
   "outputs": [
    {
     "data": {
      "text/plain": [
       "74524"
      ]
     },
     "execution_count": 8,
     "metadata": {},
     "output_type": "execute_result"
    }
   ],
   "source": [
    "df_preds_cnn[(df_preds_cnn['target'] >= 0.8) | (df_preds_cnn['target'] <= 0.2)]['target'].count()"
   ]
  },
  {
   "cell_type": "markdown",
   "id": "aebc83f6",
   "metadata": {},
   "source": [
    "As you can see, out of the 226000 total test predictions, we can say that 74524, or ~33% of the values were predicted by the CNN model with high confidence (>80% probability) for either class, and 48979 or ~22% were predicted with more than 90% probability. Now this cannot be translated directly into good performance, without the true test values; but with further training, regularization and structure changes, we can seek to improve these values in the future."
   ]
  },
  {
   "cell_type": "markdown",
   "id": "aa3161b8",
   "metadata": {
    "papermill": {
     "duration": 3.827729,
     "end_time": "2021-08-04T13:51:05.409556",
     "exception": false,
     "start_time": "2021-08-04T13:51:01.581827",
     "status": "completed"
    },
    "tags": []
   },
   "source": [
    "### Results & Conclusions\n",
    "\n",
    "**Conclusions**\n",
    "\n",
    "Gravitational Waves are HARD to detect! Once detected, they are hard to find. After sifting through a varierty of preprocessing steps, we transformed the orginal strain wave data into frequency spectrograms, which are _images_ that we then used to train deep learning models. One of the biggest challenges in this project was managing such a large dataset, which was solved by using the `TensorFlow`'s `tf.data` API, and streamlining the entire workflow all the way from data import to model training & prediction tasks. This helped us achieve the goal of this project of building a pipeline that is flexible and can be reused in the future.\n",
    "\n",
    "Our simple CNN architecture, just after 3 epochs, was performing on-par and even better than the EfficientNet model. We evaluated the models for ROC AUC score, as we wanted our model to be good at separating the two classes, but also tracked accuracy scores for comparison. Overall, we achieved AUC score of **0.843** on the test dataset from kaggle, and for a simple model to achieve that is fascinating.\n",
    "\n",
    "**Future Works**\n",
    "\n",
    "1. The modelling part of this project did not include any form of regularization. When training such large models with millions of parameters, regularization can help improve the computation efficiency while avoiding overfitting of data. Although, overfitting is not a huge problem with such large datasets, it can still help improve overall performance.\n",
    "2. The signals were stacked side-by-side for this project, to form a single string of waves, and then transformed into a spectrograme which is unique per observation, but treating each signal from respective observatory as different feature could be interesting to look at.\n",
    "3. Explore further the reasons why attempts to use the \"raw\" signal data did not give acceptable results when compared to the other method used.\n",
    "4. Computing efficiency was considered but there is room for further improvement by converting the entire data pipeline into TensorFlow and GPU compatible operations."
   ]
  }
 ],
 "metadata": {
  "kernelspec": {
   "display_name": "Python 3",
   "language": "python",
   "name": "python3"
  },
  "language_info": {
   "codemirror_mode": {
    "name": "ipython",
    "version": 3
   },
   "file_extension": ".py",
   "mimetype": "text/x-python",
   "name": "python",
   "nbconvert_exporter": "python",
   "pygments_lexer": "ipython3",
   "version": "3.6.9"
  },
  "papermill": {
   "default_parameters": {},
   "duration": 29620.666066,
   "end_time": "2021-08-04T13:51:20.590366",
   "environment_variables": {},
   "exception": null,
   "input_path": "__notebook__.ipynb",
   "output_path": "__notebook__.ipynb",
   "parameters": {},
   "start_time": "2021-08-04T05:37:39.924300",
   "version": "2.3.3"
  }
 },
 "nbformat": 4,
 "nbformat_minor": 5
}
