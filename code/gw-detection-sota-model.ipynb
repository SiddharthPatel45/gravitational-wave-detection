{
 "cells": [
  {
   "cell_type": "markdown",
   "id": "cdae0316",
   "metadata": {
    "papermill": {
     "duration": 0.014033,
     "end_time": "2021-08-04T19:48:13.277574",
     "exception": false,
     "start_time": "2021-08-04T19:48:13.263541",
     "status": "completed"
    },
    "tags": []
   },
   "source": [
    "# Gravitational Wave Detection\n",
    "\n",
    "This notebook runs the EfficientNet model for this project. This is adapted from the original work from this [kaggle notebook](https://www.kaggle.com/rijuvaish/gravitational-wave-detection-ensemble-tf/), similar to many other public ntoebooks from the competition."
   ]
  },
  {
   "cell_type": "code",
   "execution_count": 1,
   "id": "fe23a1ec",
   "metadata": {
    "execution": {
     "iopub.execute_input": "2021-08-04T19:48:13.322816Z",
     "iopub.status.busy": "2021-08-04T19:48:13.322279Z",
     "iopub.status.idle": "2021-08-04T19:48:38.290822Z",
     "shell.execute_reply": "2021-08-04T19:48:38.289770Z",
     "shell.execute_reply.started": "2021-08-04T16:43:56.805465Z"
    },
    "papermill": {
     "duration": 25.000328,
     "end_time": "2021-08-04T19:48:38.291016",
     "exception": false,
     "start_time": "2021-08-04T19:48:13.290688",
     "status": "completed"
    },
    "tags": []
   },
   "outputs": [
    {
     "name": "stdout",
     "output_type": "stream",
     "text": [
      "\u001b[33mWARNING: Running pip as root will break packages and permissions. You should install packages reliably by using venv: https://pip.pypa.io/warnings/venv\u001b[0m\r\n",
      "\u001b[33mWARNING: Running pip as root will break packages and permissions. You should install packages reliably by using venv: https://pip.pypa.io/warnings/venv\u001b[0m\r\n"
     ]
    }
   ],
   "source": [
    "# Import libraries\n",
    "import numpy as np # linear algebra\n",
    "import pandas as pd # data processing\n",
    "import matplotlib.pyplot as plt # plotting tools\n",
    "from random import shuffle\n",
    "import math\n",
    "import os\n",
    "\n",
    "# Train test split\n",
    "from sklearn.model_selection import train_test_split\n",
    "\n",
    "# Import tensorflow and keras\n",
    "import tensorflow as tf\n",
    "import keras\n",
    "\n",
    "# Model & compile arguments\n",
    "from tensorflow.keras.models import Sequential\n",
    "from keras.utils import Sequence\n",
    "from tensorflow.keras.optimizers import Adam\n",
    "\n",
    "# Get the layers\n",
    "from keras.layers import InputLayer\n",
    "from keras.layers import Conv2D\n",
    "from keras.layers import GlobalAveragePooling2D\n",
    "from keras.layers import Dense\n",
    "\n",
    "# Import the Efficientnet models\n",
    "!pip install -U -q efficientnet\n",
    "import efficientnet.keras as efn\n",
    "\n",
    "# TF model metrics\n",
    "from tensorflow.keras.metrics import AUC\n",
    "\n",
    "# \n",
    "import librosa\n",
    "import torch\n",
    "\n",
    "# (Install &) Import the nnAudio library for Constant Q-Transform\n",
    "try:\n",
    "    from nnAudio.Spectrogram import CQT1992v2\n",
    "except:\n",
    "    !pip install -q nnAudio\n",
    "    from nnAudio.Spectrogram import CQT1992v2"
   ]
  },
  {
   "cell_type": "code",
   "execution_count": 2,
   "id": "aec56862",
   "metadata": {
    "execution": {
     "iopub.execute_input": "2021-08-04T19:48:38.324291Z",
     "iopub.status.busy": "2021-08-04T19:48:38.323677Z",
     "iopub.status.idle": "2021-08-04T19:48:38.868016Z",
     "shell.execute_reply": "2021-08-04T19:48:38.867142Z",
     "shell.execute_reply.started": "2021-08-04T19:40:36.446092Z"
    },
    "papermill": {
     "duration": 0.562958,
     "end_time": "2021-08-04T19:48:38.868153",
     "exception": false,
     "start_time": "2021-08-04T19:48:38.305195",
     "status": "completed"
    },
    "tags": []
   },
   "outputs": [],
   "source": [
    "train = pd.read_csv('../input/g2net-gravitational-wave-detection/training_labels.csv')\n",
    "sample_sub = pd.read_csv('../input/g2net-gravitational-wave-detection/sample_submission.csv')"
   ]
  },
  {
   "cell_type": "code",
   "execution_count": 3,
   "id": "d34255c4",
   "metadata": {
    "execution": {
     "iopub.execute_input": "2021-08-04T19:48:38.905320Z",
     "iopub.status.busy": "2021-08-04T19:48:38.904748Z",
     "iopub.status.idle": "2021-08-04T19:48:38.908480Z",
     "shell.execute_reply": "2021-08-04T19:48:38.908881Z"
    },
    "papermill": {
     "duration": 0.024466,
     "end_time": "2021-08-04T19:48:38.909033",
     "exception": false,
     "start_time": "2021-08-04T19:48:38.884567",
     "status": "completed"
    },
    "tags": []
   },
   "outputs": [],
   "source": [
    "# function to return the npy file corresponding to the id\n",
    "def get_npy_filepath(id_, is_train=True):\n",
    "    path = ''\n",
    "    if is_train:\n",
    "        return f'../input/g2net-gravitational-wave-detection/train/{id_[0]}/{id_[1]}/{id_[2]}/{id_}.npy'\n",
    "    else:\n",
    "        return f'../input/g2net-gravitational-wave-detection/test/{id_[0]}/{id_[1]}/{id_[2]}/{id_}.npy'"
   ]
  },
  {
   "cell_type": "code",
   "execution_count": 4,
   "id": "af511d90",
   "metadata": {
    "execution": {
     "iopub.execute_input": "2021-08-04T19:48:38.943470Z",
     "iopub.status.busy": "2021-08-04T19:48:38.942222Z",
     "iopub.status.idle": "2021-08-04T19:48:38.944468Z",
     "shell.execute_reply": "2021-08-04T19:48:38.944873Z"
    },
    "papermill": {
     "duration": 0.022047,
     "end_time": "2021-08-04T19:48:38.945004",
     "exception": false,
     "start_time": "2021-08-04T19:48:38.922957",
     "status": "completed"
    },
    "tags": []
   },
   "outputs": [],
   "source": [
    "# let's define some signal parameters\n",
    "sample_rate = 2048 # data is provided at 2048 Hz\n",
    "signal_length = 2 # each signal lasts 2 s\n",
    "fmin, fmax = 20, 1024 # filter above 20 Hz, and max 1024 Hz (Nyquist freq = sample_rate/2)\n",
    "hop_length = 64 # hop length parameter for the stft"
   ]
  },
  {
   "cell_type": "code",
   "execution_count": 5,
   "id": "b437e32e",
   "metadata": {
    "execution": {
     "iopub.execute_input": "2021-08-04T19:48:38.980659Z",
     "iopub.status.busy": "2021-08-04T19:48:38.979747Z",
     "iopub.status.idle": "2021-08-04T19:48:39.034254Z",
     "shell.execute_reply": "2021-08-04T19:48:39.034913Z",
     "shell.execute_reply.started": "2021-08-04T16:44:27.695772Z"
    },
    "papermill": {
     "duration": 0.076119,
     "end_time": "2021-08-04T19:48:39.035088",
     "exception": false,
     "start_time": "2021-08-04T19:48:38.958969",
     "status": "completed"
    },
    "tags": []
   },
   "outputs": [
    {
     "name": "stdout",
     "output_type": "stream",
     "text": [
      "CQT kernels created, time used = 0.0504 seconds\n"
     ]
    },
    {
     "name": "stderr",
     "output_type": "stream",
     "text": [
      "/opt/conda/lib/python3.7/site-packages/nnAudio/utils.py:326: SyntaxWarning: If fmax is given, n_bins will be ignored\n",
      "  warnings.warn('If fmax is given, n_bins will be ignored',SyntaxWarning)\n"
     ]
    }
   ],
   "source": [
    "# Define the Constant Q-Transform\n",
    "cq_transform = CQT1992v2(sr=sample_rate, fmin=fmin, fmax=fmax, hop_length=hop_length)\n",
    "\n",
    "# function to load the file, preprocess, return the respective Constant Q-transform\n",
    "def parse_function(id_path, is_train):\n",
    "    # load the npy file\n",
    "    signals = np.load(get_npy_filepath(id_path, is_train))\n",
    "    \n",
    "    # loop through each signal\n",
    "    for i in range(signals.shape[0]):\n",
    "        # normalize the signal data\n",
    "        signals[i] /= np.max(signals[i])\n",
    "    \n",
    "    # stack the arrays into a single vector\n",
    "    signals = np.hstack(signals)\n",
    "    \n",
    "    # convert the signals to torch.tensor to pass to CQT\n",
    "    signals = torch.from_numpy(signals).float()\n",
    "    \n",
    "    # get the CQT\n",
    "    image = cq_transform(signals)\n",
    "    \n",
    "    # conver the image from torch.tensor to array\n",
    "    image = np.array(image)\n",
    "    \n",
    "    # transpose the image to get right orientation\n",
    "    image = np.transpose(image,(1,2,0))\n",
    "    \n",
    "    # conver the image to tf.tensor and return\n",
    "    return image"
   ]
  },
  {
   "cell_type": "code",
   "execution_count": 6,
   "id": "e5be9585",
   "metadata": {
    "execution": {
     "iopub.execute_input": "2021-08-04T19:48:39.074524Z",
     "iopub.status.busy": "2021-08-04T19:48:39.072559Z",
     "iopub.status.idle": "2021-08-04T19:48:39.076529Z",
     "shell.execute_reply": "2021-08-04T19:48:39.076890Z",
     "shell.execute_reply.started": "2021-08-04T16:44:27.759907Z"
    },
    "papermill": {
     "duration": 0.025985,
     "end_time": "2021-08-04T19:48:39.077025",
     "exception": false,
     "start_time": "2021-08-04T19:48:39.051040",
     "status": "completed"
    },
    "tags": []
   },
   "outputs": [],
   "source": [
    "class Dataset(Sequence):\n",
    "    def __init__(self,idx,y=None,batch_size=256,shuffle=True):\n",
    "        self.idx = idx\n",
    "        self.batch_size = batch_size\n",
    "        self.shuffle = shuffle\n",
    "        if y is not None:\n",
    "            self.is_train=True\n",
    "        else:\n",
    "            self.is_train=False\n",
    "        self.y = y\n",
    "    def __len__(self):\n",
    "        return math.ceil(len(self.idx)/self.batch_size)\n",
    "    def __getitem__(self,ids):\n",
    "        batch_ids = self.idx[ids * self.batch_size:(ids + 1) * self.batch_size]\n",
    "        if self.y is not None:\n",
    "            batch_y = self.y[ids * self.batch_size: (ids + 1) * self.batch_size]\n",
    "            \n",
    "        list_x = np.array([parse_function(x,self.is_train) for x in batch_ids])\n",
    "        batch_X = np.stack(list_x)\n",
    "        if self.is_train:\n",
    "            return batch_X, batch_y\n",
    "        else:\n",
    "            return batch_X\n",
    "    \n",
    "    def on_epoch_end(self):\n",
    "        if self.shuffle and self.is_train:\n",
    "            ids_y = list(zip(self.idx, self.y))\n",
    "            shuffle(ids_y)\n",
    "            self.idx, self.y = list(zip(*ids_y))"
   ]
  },
  {
   "cell_type": "code",
   "execution_count": 7,
   "id": "bfda670a",
   "metadata": {
    "execution": {
     "iopub.execute_input": "2021-08-04T19:48:39.120629Z",
     "iopub.status.busy": "2021-08-04T19:48:39.119849Z",
     "iopub.status.idle": "2021-08-04T19:48:39.131607Z",
     "shell.execute_reply": "2021-08-04T19:48:39.131999Z",
     "shell.execute_reply.started": "2021-08-04T16:44:27.776294Z"
    },
    "papermill": {
     "duration": 0.038839,
     "end_time": "2021-08-04T19:48:39.132118",
     "exception": false,
     "start_time": "2021-08-04T19:48:39.093279",
     "status": "completed"
    },
    "tags": []
   },
   "outputs": [],
   "source": [
    "# Get the feature ids and target\n",
    "X = train[['id']]\n",
    "y = train['target'].astype('int8').values"
   ]
  },
  {
   "cell_type": "code",
   "execution_count": 8,
   "id": "6e669ae0",
   "metadata": {
    "execution": {
     "iopub.execute_input": "2021-08-04T19:48:39.166582Z",
     "iopub.status.busy": "2021-08-04T19:48:39.165596Z",
     "iopub.status.idle": "2021-08-04T19:48:39.599699Z",
     "shell.execute_reply": "2021-08-04T19:48:39.599220Z"
    },
    "papermill": {
     "duration": 0.452765,
     "end_time": "2021-08-04T19:48:39.599820",
     "exception": false,
     "start_time": "2021-08-04T19:48:39.147055",
     "status": "completed"
    },
    "tags": []
   },
   "outputs": [],
   "source": [
    "# Split the training IDs into training & validation datasets\n",
    "X_train, X_valid, y_train, y_valid = train_test_split(X, y, random_state=42, stratify=y)\n",
    "\n",
    "# Assign the test IDs\n",
    "X_test = sample_sub[['id']]"
   ]
  },
  {
   "cell_type": "code",
   "execution_count": 9,
   "id": "8bcedf3a",
   "metadata": {
    "execution": {
     "iopub.execute_input": "2021-08-04T19:48:39.651067Z",
     "iopub.status.busy": "2021-08-04T19:48:39.650049Z",
     "iopub.status.idle": "2021-08-04T19:48:39.655236Z",
     "shell.execute_reply": "2021-08-04T19:48:39.655749Z",
     "shell.execute_reply.started": "2021-08-04T16:44:28.244788Z"
    },
    "papermill": {
     "duration": 0.041491,
     "end_time": "2021-08-04T19:48:39.655906",
     "exception": false,
     "start_time": "2021-08-04T19:48:39.614415",
     "status": "completed"
    },
    "tags": []
   },
   "outputs": [],
   "source": [
    "train_dataset = Dataset(X_train['id'], y_train)\n",
    "valid_dataset = Dataset(X_valid['id'], y_valid)\n",
    "test_dataset = Dataset(X_test['id'])"
   ]
  },
  {
   "cell_type": "code",
   "execution_count": 10,
   "id": "4788ae34",
   "metadata": {
    "execution": {
     "iopub.execute_input": "2021-08-04T19:48:39.722863Z",
     "iopub.status.busy": "2021-08-04T19:48:39.719785Z",
     "iopub.status.idle": "2021-08-04T19:48:39.726185Z",
     "shell.execute_reply": "2021-08-04T19:48:39.726765Z",
     "shell.execute_reply.started": "2021-08-04T16:44:28.252680Z"
    },
    "papermill": {
     "duration": 0.046558,
     "end_time": "2021-08-04T19:48:39.726897",
     "exception": false,
     "start_time": "2021-08-04T19:48:39.680339",
     "status": "completed"
    },
    "tags": []
   },
   "outputs": [
    {
     "data": {
      "text/plain": [
       "<__main__.Dataset at 0x7fa46fb81650>"
      ]
     },
     "execution_count": 10,
     "metadata": {},
     "output_type": "execute_result"
    }
   ],
   "source": [
    "train_dataset"
   ]
  },
  {
   "cell_type": "code",
   "execution_count": 11,
   "id": "bf9d077f",
   "metadata": {
    "execution": {
     "iopub.execute_input": "2021-08-04T19:48:39.794323Z",
     "iopub.status.busy": "2021-08-04T19:48:39.792605Z",
     "iopub.status.idle": "2021-08-04T19:48:39.795165Z",
     "shell.execute_reply": "2021-08-04T19:48:39.795798Z",
     "shell.execute_reply.started": "2021-08-04T16:44:28.268656Z"
    },
    "papermill": {
     "duration": 0.03291,
     "end_time": "2021-08-04T19:48:39.795988",
     "exception": false,
     "start_time": "2021-08-04T19:48:39.763078",
     "status": "completed"
    },
    "tags": []
   },
   "outputs": [],
   "source": [
    "input_shape = (69, 193, 1)"
   ]
  },
  {
   "cell_type": "code",
   "execution_count": 12,
   "id": "6d503d9c",
   "metadata": {
    "execution": {
     "iopub.execute_input": "2021-08-04T19:48:39.853363Z",
     "iopub.status.busy": "2021-08-04T19:48:39.852231Z",
     "iopub.status.idle": "2021-08-04T19:48:50.263433Z",
     "shell.execute_reply": "2021-08-04T19:48:50.263997Z",
     "shell.execute_reply.started": "2021-08-04T16:44:28.281989Z"
    },
    "papermill": {
     "duration": 10.443313,
     "end_time": "2021-08-04T19:48:50.264186",
     "exception": false,
     "start_time": "2021-08-04T19:48:39.820873",
     "status": "completed"
    },
    "tags": []
   },
   "outputs": [
    {
     "name": "stdout",
     "output_type": "stream",
     "text": [
      "Downloading data from https://github.com/Callidior/keras-applications/releases/download/efficientnet/efficientnet-b0_weights_tf_dim_ordering_tf_kernels_autoaugment_notop.h5\n",
      "16809984/16804768 [==============================] - 1s 0us/step\n",
      "Model: \"sequential\"\n",
      "_________________________________________________________________\n",
      "Layer (type)                 Output Shape              Param #   \n",
      "=================================================================\n",
      "conv2d (Conv2D)              (None, 69, 193, 3)        30        \n",
      "_________________________________________________________________\n",
      "efficientnet-b0 (Functional) (None, None, None, 1280)  4049564   \n",
      "_________________________________________________________________\n",
      "global_average_pooling2d (Gl (None, 1280)              0         \n",
      "_________________________________________________________________\n",
      "dense (Dense)                (None, 32)                40992     \n",
      "_________________________________________________________________\n",
      "dense_1 (Dense)              (None, 1)                 33        \n",
      "=================================================================\n",
      "Total params: 4,090,619\n",
      "Trainable params: 4,048,603\n",
      "Non-trainable params: 42,016\n",
      "_________________________________________________________________\n"
     ]
    }
   ],
   "source": [
    "model = tf.keras.Sequential([InputLayer(input_shape=input_shape),\n",
    "                             Conv2D(3,3,activation='relu',padding='same'),\n",
    "                             efn.EfficientNetB0(include_top=False,input_shape=(),weights='imagenet'),\n",
    "                             GlobalAveragePooling2D(),\n",
    "                             Dense(32,activation='relu'),\n",
    "                             Dense(1, activation='sigmoid')])\n",
    "\n",
    "model.summary()\n",
    "model.compile(optimizer=keras.optimizers.Adam(learning_rate=0.001),\n",
    "              loss='binary_crossentropy', metrics=[[keras.metrics.AUC(), 'accuracy']])"
   ]
  },
  {
   "cell_type": "code",
   "execution_count": null,
   "id": "e922d677",
   "metadata": {
    "papermill": {
     "duration": 0.019387,
     "end_time": "2021-08-04T19:48:50.304615",
     "exception": false,
     "start_time": "2021-08-04T19:48:50.285228",
     "status": "completed"
    },
    "tags": []
   },
   "outputs": [],
   "source": []
  },
  {
   "cell_type": "code",
   "execution_count": 13,
   "id": "5ee7597d",
   "metadata": {
    "execution": {
     "iopub.execute_input": "2021-08-04T19:48:50.348626Z",
     "iopub.status.busy": "2021-08-04T19:48:50.348086Z",
     "iopub.status.idle": "2021-08-04T21:22:36.193536Z",
     "shell.execute_reply": "2021-08-04T21:22:36.194037Z",
     "shell.execute_reply.started": "2021-08-04T16:44:40.905198Z"
    },
    "papermill": {
     "duration": 5625.870956,
     "end_time": "2021-08-04T21:22:36.194947",
     "exception": false,
     "start_time": "2021-08-04T19:48:50.323991",
     "status": "completed"
    },
    "tags": []
   },
   "outputs": [
    {
     "name": "stdout",
     "output_type": "stream",
     "text": [
      "1641/1641 [==============================] - 5621s 3s/step - loss: 0.5055 - auc: 0.8022 - accuracy: 0.7328 - val_loss: 0.6317 - val_auc: 0.8404 - val_accuracy: 0.6898\n"
     ]
    },
    {
     "data": {
      "text/plain": [
       "<tensorflow.python.keras.callbacks.History at 0x7fa4717bc890>"
      ]
     },
     "execution_count": 13,
     "metadata": {},
     "output_type": "execute_result"
    }
   ],
   "source": [
    "model.fit(train_dataset,epochs=1,validation_data=valid_dataset)"
   ]
  },
  {
   "cell_type": "code",
   "execution_count": 14,
   "id": "f65d47ae",
   "metadata": {
    "execution": {
     "iopub.execute_input": "2021-08-04T21:22:37.159798Z",
     "iopub.status.busy": "2021-08-04T21:22:37.158877Z",
     "iopub.status.idle": "2021-08-04T22:01:04.265765Z",
     "shell.execute_reply": "2021-08-04T22:01:04.266268Z",
     "shell.execute_reply.started": "2021-08-04T18:47:17.796643Z"
    },
    "papermill": {
     "duration": 2307.592024,
     "end_time": "2021-08-04T22:01:04.266441",
     "exception": false,
     "start_time": "2021-08-04T21:22:36.674417",
     "status": "completed"
    },
    "tags": []
   },
   "outputs": [
    {
     "data": {
      "text/plain": [
       "array([[0.9991159 ],\n",
       "       [0.24329494],\n",
       "       [0.14938614],\n",
       "       ...,\n",
       "       [0.08023278],\n",
       "       [0.57160586],\n",
       "       [0.05412502]], dtype=float32)"
      ]
     },
     "execution_count": 14,
     "metadata": {},
     "output_type": "execute_result"
    }
   ],
   "source": [
    "preds = model.predict(test_dataset)\n",
    "preds"
   ]
  },
  {
   "cell_type": "code",
   "execution_count": 15,
   "id": "aa0097e5",
   "metadata": {
    "execution": {
     "iopub.execute_input": "2021-08-04T22:01:05.203806Z",
     "iopub.status.busy": "2021-08-04T22:01:05.193645Z",
     "iopub.status.idle": "2021-08-04T22:01:05.772583Z",
     "shell.execute_reply": "2021-08-04T22:01:05.772118Z",
     "shell.execute_reply.started": "2021-08-04T19:35:00.745746Z"
    },
    "papermill": {
     "duration": 1.063523,
     "end_time": "2021-08-04T22:01:05.772718",
     "exception": false,
     "start_time": "2021-08-04T22:01:04.709195",
     "status": "completed"
    },
    "tags": []
   },
   "outputs": [],
   "source": [
    "model.save('./model_EFN.h5')"
   ]
  },
  {
   "cell_type": "markdown",
   "id": "aa33c9ab",
   "metadata": {
    "papermill": {
     "duration": 0.437122,
     "end_time": "2021-08-04T22:01:06.647111",
     "exception": false,
     "start_time": "2021-08-04T22:01:06.209989",
     "status": "completed"
    },
    "tags": []
   },
   "source": [
    "The SOTA model, EfficientNetB0, which we only ran for a single epoch (due to time constraints), we can already see equivalent performance in terms of AUC score and accuracy for the training as well as validation dataset, which is unseen to the model."
   ]
  },
  {
   "cell_type": "code",
   "execution_count": 16,
   "id": "ede77761",
   "metadata": {
    "execution": {
     "iopub.execute_input": "2021-08-04T22:01:07.528525Z",
     "iopub.status.busy": "2021-08-04T22:01:07.527818Z",
     "iopub.status.idle": "2021-08-04T22:01:07.531463Z",
     "shell.execute_reply": "2021-08-04T22:01:07.531027Z",
     "shell.execute_reply.started": "2021-08-04T19:42:24.061605Z"
    },
    "papermill": {
     "duration": 0.447043,
     "end_time": "2021-08-04T22:01:07.531570",
     "exception": false,
     "start_time": "2021-08-04T22:01:07.084527",
     "status": "completed"
    },
    "tags": []
   },
   "outputs": [],
   "source": [
    "# Function to save kaggle submissions for test prediction probabilities\n",
    "def get_kaggle_format(prediction_probs, model='base'):\n",
    "    # load the sample submission file\n",
    "#     sub = pd.read_csv('../input/g2net-gravitational-wave-detection/sample_submission.csv')\n",
    "    sample_sub['target'] = prediction_probs\n",
    "    \n",
    "    # Output filename for kaggle submission\n",
    "    filename = f\"kaggle_sub_{model}.csv\"\n",
    "    \n",
    "    # Save the DataFrame to a file\n",
    "    sample_sub.to_csv(filename, index=False)\n",
    "    print(f'File name: {filename}')"
   ]
  },
  {
   "cell_type": "code",
   "execution_count": 17,
   "id": "2a68c0d4",
   "metadata": {
    "execution": {
     "iopub.execute_input": "2021-08-04T22:01:08.422637Z",
     "iopub.status.busy": "2021-08-04T22:01:08.422085Z",
     "iopub.status.idle": "2021-08-04T22:01:09.022268Z",
     "shell.execute_reply": "2021-08-04T22:01:09.021818Z",
     "shell.execute_reply.started": "2021-08-04T19:42:45.422988Z"
    },
    "papermill": {
     "duration": 1.053908,
     "end_time": "2021-08-04T22:01:09.022395",
     "exception": false,
     "start_time": "2021-08-04T22:01:07.968487",
     "status": "completed"
    },
    "scrolled": true,
    "tags": []
   },
   "outputs": [
    {
     "name": "stdout",
     "output_type": "stream",
     "text": [
      "File name: kaggle_sub_efn.csv\n"
     ]
    }
   ],
   "source": [
    "get_kaggle_format(preds, model='efn')"
   ]
  },
  {
   "cell_type": "markdown",
   "id": "3a77ec4a",
   "metadata": {},
   "source": [
    "We refer to this model in the main modelling notebook."
   ]
  }
 ],
 "metadata": {
  "kernelspec": {
   "display_name": "Python 3",
   "language": "python",
   "name": "python3"
  },
  "language_info": {
   "codemirror_mode": {
    "name": "ipython",
    "version": 3
   },
   "file_extension": ".py",
   "mimetype": "text/x-python",
   "name": "python",
   "nbconvert_exporter": "python",
   "pygments_lexer": "ipython3",
   "version": "3.6.9"
  },
  "papermill": {
   "default_parameters": {},
   "duration": 7985.938451,
   "end_time": "2021-08-04T22:01:12.788085",
   "environment_variables": {},
   "exception": null,
   "input_path": "__notebook__.ipynb",
   "output_path": "__notebook__.ipynb",
   "parameters": {},
   "start_time": "2021-08-04T19:48:06.849634",
   "version": "2.3.3"
  }
 },
 "nbformat": 4,
 "nbformat_minor": 5
}
