{
 "cells": [
  {
   "cell_type": "markdown",
   "metadata": {},
   "source": [
    "# Gravitational Wave Detection\n",
    "\n",
    "This notebook runs the EfficientNet model for this project. This is adapted from the original work from this [kaggle notebook](https://www.kaggle.com/rijuvaish/gravitational-wave-detection-ensemble-tf/), similar to many other public ntoebooks from the competition."
   ]
  },
  {
   "cell_type": "code",
   "execution_count": 1,
   "metadata": {
    "execution": {
     "iopub.execute_input": "2021-08-04T16:43:56.805567Z",
     "iopub.status.busy": "2021-08-04T16:43:56.805102Z",
     "iopub.status.idle": "2021-08-04T16:44:26.204102Z",
     "shell.execute_reply": "2021-08-04T16:44:26.202696Z",
     "shell.execute_reply.started": "2021-08-04T16:43:56.805465Z"
    },
    "papermill": {
     "duration": 8.761425,
     "end_time": "2021-08-02T00:48:02.919558",
     "exception": false,
     "start_time": "2021-08-02T00:47:54.158133",
     "status": "completed"
    },
    "tags": []
   },
   "outputs": [
    {
     "name": "stdout",
     "output_type": "stream",
     "text": [
      "Collecting efficientnet\n",
      "  Downloading efficientnet-1.1.1-py3-none-any.whl (18 kB)\n",
      "Collecting keras-applications<=1.0.8,>=1.0.7\n",
      "  Downloading Keras_Applications-1.0.8-py3-none-any.whl (50 kB)\n",
      "\u001b[K     |████████████████████████████████| 50 kB 1.1 MB/s eta 0:00:01\n",
      "\u001b[?25hRequirement already satisfied: scikit-image in /opt/conda/lib/python3.7/site-packages (from efficientnet) (0.18.2)\n",
      "Requirement already satisfied: h5py in /opt/conda/lib/python3.7/site-packages (from keras-applications<=1.0.8,>=1.0.7->efficientnet) (2.10.0)\n",
      "Requirement already satisfied: numpy>=1.9.1 in /opt/conda/lib/python3.7/site-packages (from keras-applications<=1.0.8,>=1.0.7->efficientnet) (1.19.5)\n",
      "Requirement already satisfied: six in /opt/conda/lib/python3.7/site-packages (from h5py->keras-applications<=1.0.8,>=1.0.7->efficientnet) (1.15.0)\n",
      "Requirement already satisfied: tifffile>=2019.7.26 in /opt/conda/lib/python3.7/site-packages (from scikit-image->efficientnet) (2021.7.2)\n",
      "Requirement already satisfied: scipy>=1.0.1 in /opt/conda/lib/python3.7/site-packages (from scikit-image->efficientnet) (1.6.3)\n",
      "Requirement already satisfied: pillow!=7.1.0,!=7.1.1,>=4.3.0 in /opt/conda/lib/python3.7/site-packages (from scikit-image->efficientnet) (8.2.0)\n",
      "Requirement already satisfied: PyWavelets>=1.1.1 in /opt/conda/lib/python3.7/site-packages (from scikit-image->efficientnet) (1.1.1)\n",
      "Requirement already satisfied: networkx>=2.0 in /opt/conda/lib/python3.7/site-packages (from scikit-image->efficientnet) (2.5)\n",
      "Requirement already satisfied: matplotlib!=3.0.0,>=2.0.0 in /opt/conda/lib/python3.7/site-packages (from scikit-image->efficientnet) (3.4.2)\n",
      "Requirement already satisfied: imageio>=2.3.0 in /opt/conda/lib/python3.7/site-packages (from scikit-image->efficientnet) (2.9.0)\n",
      "Requirement already satisfied: pyparsing>=2.2.1 in /opt/conda/lib/python3.7/site-packages (from matplotlib!=3.0.0,>=2.0.0->scikit-image->efficientnet) (2.4.7)\n",
      "Requirement already satisfied: kiwisolver>=1.0.1 in /opt/conda/lib/python3.7/site-packages (from matplotlib!=3.0.0,>=2.0.0->scikit-image->efficientnet) (1.3.1)\n",
      "Requirement already satisfied: python-dateutil>=2.7 in /opt/conda/lib/python3.7/site-packages (from matplotlib!=3.0.0,>=2.0.0->scikit-image->efficientnet) (2.8.1)\n",
      "Requirement already satisfied: cycler>=0.10 in /opt/conda/lib/python3.7/site-packages (from matplotlib!=3.0.0,>=2.0.0->scikit-image->efficientnet) (0.10.0)\n",
      "Requirement already satisfied: decorator>=4.3.0 in /opt/conda/lib/python3.7/site-packages (from networkx>=2.0->scikit-image->efficientnet) (5.0.9)\n",
      "Installing collected packages: keras-applications, efficientnet\n",
      "Successfully installed efficientnet-1.1.1 keras-applications-1.0.8\n",
      "\u001b[33mWARNING: Running pip as root will break packages and permissions. You should install packages reliably by using venv: https://pip.pypa.io/warnings/venv\u001b[0m\n",
      "\u001b[33mWARNING: Running pip as root will break packages and permissions. You should install packages reliably by using venv: https://pip.pypa.io/warnings/venv\u001b[0m\n"
     ]
    }
   ],
   "source": [
    "# Import libraries\n",
    "import numpy as np # linear algebra\n",
    "import pandas as pd # data processing\n",
    "import matplotlib.pyplot as plt # plotting tools\n",
    "from random import shuffle\n",
    "import math\n",
    "import os\n",
    "\n",
    "# Train test split\n",
    "from sklearn.model_selection import train_test_split\n",
    "\n",
    "# Import tensorflow and keras\n",
    "import tensorflow as tf\n",
    "import keras\n",
    "\n",
    "# Model & compile arguments\n",
    "from tensorflow.keras.models import Sequential\n",
    "from keras.utils import Sequence\n",
    "from tensorflow.keras.optimizers import Adam\n",
    "\n",
    "# Get the layers\n",
    "from keras.layers import InputLayer\n",
    "from keras.layers import Conv2D\n",
    "from keras.layers import GlobalAveragePooling2D\n",
    "from keras.layers import Dense\n",
    "\n",
    "# Import the Efficientnet models\n",
    "!pip install -U -q efficientnet\n",
    "import efficientnet.keras as efn\n",
    "\n",
    "# TF model metrics\n",
    "from tensorflow.keras.metrics import AUC\n",
    "\n",
    "# \n",
    "import librosa\n",
    "import torch\n",
    "\n",
    "# (Install &) Import the nnAudio library for Constant Q-Transform\n",
    "try:\n",
    "    from nnAudio.Spectrogram import CQT1992v2\n",
    "except:\n",
    "    !pip install -q nnAudio\n",
    "    from nnAudio.Spectrogram import CQT1992v2"
   ]
  },
  {
   "cell_type": "code",
   "execution_count": 24,
   "metadata": {
    "execution": {
     "iopub.execute_input": "2021-08-04T19:40:36.446151Z",
     "iopub.status.busy": "2021-08-04T19:40:36.445701Z",
     "iopub.status.idle": "2021-08-04T19:40:36.968329Z",
     "shell.execute_reply": "2021-08-04T19:40:36.967218Z",
     "shell.execute_reply.started": "2021-08-04T19:40:36.446092Z"
    },
    "papermill": {
     "duration": 0.613904,
     "end_time": "2021-08-02T00:48:18.229850",
     "exception": false,
     "start_time": "2021-08-02T00:48:17.615946",
     "status": "completed"
    },
    "tags": []
   },
   "outputs": [],
   "source": [
    "train = pd.read_csv('../input/g2net-gravitational-wave-detection/training_labels.csv')\n",
    "sample_sub = pd.read_csv('../input/g2net-gravitational-wave-detection/sample_submission.csv')"
   ]
  },
  {
   "cell_type": "code",
   "execution_count": 1,
   "metadata": {},
   "outputs": [],
   "source": [
    "# function to return the npy file corresponding to the id\n",
    "def get_npy_filepath(id_, is_train=True):\n",
    "    path = ''\n",
    "    if is_train:\n",
    "        return f'../input/g2net-gravitational-wave-detection/train/{id_[0]}/{id_[1]}/{id_[2]}/{id_}.npy'\n",
    "    else:\n",
    "        return f'../input/g2net-gravitational-wave-detection/test/{id_[0]}/{id_[1]}/{id_[2]}/{id_}.npy'"
   ]
  },
  {
   "cell_type": "code",
   "execution_count": 2,
   "metadata": {},
   "outputs": [],
   "source": [
    "# let's define some signal parameters\n",
    "sample_rate = 2048 # data is provided at 2048 Hz\n",
    "signal_length = 2 # each signal lasts 2 s\n",
    "fmin, fmax = 20, 1024 # filter above 20 Hz, and max 1024 Hz (Nyquist freq = sample_rate/2)\n",
    "hop_length = 64 # hop length parameter for the stft"
   ]
  },
  {
   "cell_type": "code",
   "execution_count": 10,
   "metadata": {
    "execution": {
     "iopub.execute_input": "2021-08-04T16:44:27.695815Z",
     "iopub.status.busy": "2021-08-04T16:44:27.695267Z",
     "iopub.status.idle": "2021-08-04T16:44:27.757590Z",
     "shell.execute_reply": "2021-08-04T16:44:27.756275Z",
     "shell.execute_reply.started": "2021-08-04T16:44:27.695772Z"
    },
    "papermill": {
     "duration": 1.450413,
     "end_time": "2021-08-02T00:48:35.137148",
     "exception": false,
     "start_time": "2021-08-02T00:48:33.686735",
     "status": "completed"
    },
    "tags": []
   },
   "outputs": [
    {
     "name": "stdout",
     "output_type": "stream",
     "text": [
      "CQT kernels created, time used = 0.0520 seconds\n"
     ]
    },
    {
     "name": "stderr",
     "output_type": "stream",
     "text": [
      "/opt/conda/lib/python3.7/site-packages/nnAudio/utils.py:326: SyntaxWarning: If fmax is given, n_bins will be ignored\n",
      "  warnings.warn('If fmax is given, n_bins will be ignored',SyntaxWarning)\n"
     ]
    }
   ],
   "source": [
    "# Define the Constant Q-Transform\n",
    "cq_transform = CQT1992v2(sr=sample_rate, fmin=fmin, fmax=fmax, hop_length=hop_length)\n",
    "\n",
    "# function to load the file, preprocess, return the respective Constant Q-transform\n",
    "def parse_function(id_path, is_train):\n",
    "    # load the npy file\n",
    "    signals = np.load(get_npy_filepath(id_path, is_train))\n",
    "    \n",
    "    # loop through each signal\n",
    "    for i in range(signals.shape[0]):\n",
    "        # normalize the signal data\n",
    "        signals[i] /= np.max(signals[i])\n",
    "    \n",
    "    # stack the arrays into a single vector\n",
    "    signals = np.hstack(signals)\n",
    "    \n",
    "    # convert the signals to torch.tensor to pass to CQT\n",
    "    signals = torch.from_numpy(signals).float()\n",
    "    \n",
    "    # get the CQT\n",
    "    image = cq_transform(signals)\n",
    "    \n",
    "    # conver the image from torch.tensor to array\n",
    "    image = np.array(image)\n",
    "    \n",
    "    # transpose the image to get right orientation\n",
    "    image = np.transpose(image,(1,2,0))\n",
    "    \n",
    "    # conver the image to tf.tensor and return\n",
    "    return image"
   ]
  },
  {
   "cell_type": "code",
   "execution_count": 11,
   "metadata": {
    "execution": {
     "iopub.execute_input": "2021-08-04T16:44:27.759979Z",
     "iopub.status.busy": "2021-08-04T16:44:27.759472Z",
     "iopub.status.idle": "2021-08-04T16:44:27.774044Z",
     "shell.execute_reply": "2021-08-04T16:44:27.772409Z",
     "shell.execute_reply.started": "2021-08-04T16:44:27.759907Z"
    },
    "papermill": {
     "duration": 0.085278,
     "end_time": "2021-08-02T00:48:37.900762",
     "exception": false,
     "start_time": "2021-08-02T00:48:37.815484",
     "status": "completed"
    },
    "tags": []
   },
   "outputs": [],
   "source": [
    "class Dataset(Sequence):\n",
    "    def __init__(self,idx,y=None,batch_size=256,shuffle=True):\n",
    "        self.idx = idx\n",
    "        self.batch_size = batch_size\n",
    "        self.shuffle = shuffle\n",
    "        if y is not None:\n",
    "            self.is_train=True\n",
    "        else:\n",
    "            self.is_train=False\n",
    "        self.y = y\n",
    "    def __len__(self):\n",
    "        return math.ceil(len(self.idx)/self.batch_size)\n",
    "    def __getitem__(self,ids):\n",
    "        batch_ids = self.idx[ids * self.batch_size:(ids + 1) * self.batch_size]\n",
    "        if self.y is not None:\n",
    "            batch_y = self.y[ids * self.batch_size: (ids + 1) * self.batch_size]\n",
    "            \n",
    "        list_x = np.array([parse_function(x,self.is_train) for x in batch_ids])\n",
    "        batch_X = np.stack(list_x)\n",
    "        if self.is_train:\n",
    "            return batch_X, batch_y\n",
    "        else:\n",
    "            return batch_X\n",
    "    \n",
    "    def on_epoch_end(self):\n",
    "        if self.shuffle and self.is_train:\n",
    "            ids_y = list(zip(self.idx, self.y))\n",
    "            shuffle(ids_y)\n",
    "            self.idx, self.y = list(zip(*ids_y))"
   ]
  },
  {
   "cell_type": "code",
   "execution_count": 12,
   "metadata": {
    "execution": {
     "iopub.execute_input": "2021-08-04T16:44:27.776339Z",
     "iopub.status.busy": "2021-08-04T16:44:27.775748Z",
     "iopub.status.idle": "2021-08-04T16:44:27.787444Z",
     "shell.execute_reply": "2021-08-04T16:44:27.786213Z",
     "shell.execute_reply.started": "2021-08-04T16:44:27.776294Z"
    },
    "papermill": {
     "duration": 0.07782,
     "end_time": "2021-08-02T00:48:38.044716",
     "exception": false,
     "start_time": "2021-08-02T00:48:37.966896",
     "status": "completed"
    },
    "tags": []
   },
   "outputs": [],
   "source": [
    "# Get the feature ids and target\n",
    "X = train[['id']]\n",
    "y = train['target'].astype('int8').values"
   ]
  },
  {
   "cell_type": "code",
   "execution_count": null,
   "metadata": {},
   "outputs": [],
   "source": [
    "# Split the training IDs into training & validation datasets\n",
    "X_train, X_valid, y_train, y_valid = train_test_split(X, y, random_state=42, stratify=y)\n",
    "\n",
    "# Assign the test IDs\n",
    "X_test = sample_sub[['id']]"
   ]
  },
  {
   "cell_type": "code",
   "execution_count": 14,
   "metadata": {
    "execution": {
     "iopub.execute_input": "2021-08-04T16:44:28.244834Z",
     "iopub.status.busy": "2021-08-04T16:44:28.244202Z",
     "iopub.status.idle": "2021-08-04T16:44:28.250335Z",
     "shell.execute_reply": "2021-08-04T16:44:28.249060Z",
     "shell.execute_reply.started": "2021-08-04T16:44:28.244788Z"
    },
    "papermill": {
     "duration": 0.076253,
     "end_time": "2021-08-02T00:48:38.431779",
     "exception": false,
     "start_time": "2021-08-02T00:48:38.355526",
     "status": "completed"
    },
    "tags": []
   },
   "outputs": [],
   "source": [
    "train_dataset = Dataset(X_train['id'], y_train)\n",
    "valid_dataset = Dataset(X_valid['id'], y_valid)\n",
    "test_dataset = Dataset(X_test['id'])"
   ]
  },
  {
   "cell_type": "code",
   "execution_count": 15,
   "metadata": {
    "execution": {
     "iopub.execute_input": "2021-08-04T16:44:28.252724Z",
     "iopub.status.busy": "2021-08-04T16:44:28.251983Z",
     "iopub.status.idle": "2021-08-04T16:44:28.266555Z",
     "shell.execute_reply": "2021-08-04T16:44:28.265511Z",
     "shell.execute_reply.started": "2021-08-04T16:44:28.252680Z"
    },
    "papermill": {
     "duration": 0.075223,
     "end_time": "2021-08-02T00:48:38.572533",
     "exception": false,
     "start_time": "2021-08-02T00:48:38.497310",
     "status": "completed"
    },
    "tags": []
   },
   "outputs": [
    {
     "data": {
      "text/plain": [
       "<__main__.Dataset at 0x7ff6a59d0150>"
      ]
     },
     "execution_count": 15,
     "metadata": {},
     "output_type": "execute_result"
    }
   ],
   "source": [
    "train_dataset"
   ]
  },
  {
   "cell_type": "code",
   "execution_count": 16,
   "metadata": {
    "execution": {
     "iopub.execute_input": "2021-08-04T16:44:28.268741Z",
     "iopub.status.busy": "2021-08-04T16:44:28.268237Z",
     "iopub.status.idle": "2021-08-04T16:44:28.278261Z",
     "shell.execute_reply": "2021-08-04T16:44:28.277008Z",
     "shell.execute_reply.started": "2021-08-04T16:44:28.268656Z"
    },
    "papermill": {
     "duration": 0.073208,
     "end_time": "2021-08-02T00:48:45.734630",
     "exception": false,
     "start_time": "2021-08-02T00:48:45.661422",
     "status": "completed"
    },
    "tags": []
   },
   "outputs": [],
   "source": [
    "input_shape = (69, 193, 1)"
   ]
  },
  {
   "cell_type": "code",
   "execution_count": 17,
   "metadata": {
    "execution": {
     "iopub.execute_input": "2021-08-04T16:44:28.282037Z",
     "iopub.status.busy": "2021-08-04T16:44:28.281093Z",
     "iopub.status.idle": "2021-08-04T16:44:40.903061Z",
     "shell.execute_reply": "2021-08-04T16:44:40.901867Z",
     "shell.execute_reply.started": "2021-08-04T16:44:28.281989Z"
    },
    "papermill": {
     "duration": 6.887581,
     "end_time": "2021-08-02T00:48:52.688763",
     "exception": false,
     "start_time": "2021-08-02T00:48:45.801182",
     "status": "completed"
    },
    "tags": []
   },
   "outputs": [
    {
     "name": "stdout",
     "output_type": "stream",
     "text": [
      "Downloading data from https://github.com/Callidior/keras-applications/releases/download/efficientnet/efficientnet-b0_weights_tf_dim_ordering_tf_kernels_autoaugment_notop.h5\n",
      "16809984/16804768 [==============================] - 1s 0us/step\n",
      "Model: \"sequential\"\n",
      "_________________________________________________________________\n",
      "Layer (type)                 Output Shape              Param #   \n",
      "=================================================================\n",
      "conv2d (Conv2D)              (None, 69, 193, 3)        30        \n",
      "_________________________________________________________________\n",
      "efficientnet-b0 (Functional) (None, None, None, 1280)  4049564   \n",
      "_________________________________________________________________\n",
      "global_average_pooling2d (Gl (None, 1280)              0         \n",
      "_________________________________________________________________\n",
      "dense (Dense)                (None, 32)                40992     \n",
      "_________________________________________________________________\n",
      "dense_1 (Dense)              (None, 1)                 33        \n",
      "=================================================================\n",
      "Total params: 4,090,619\n",
      "Trainable params: 4,048,603\n",
      "Non-trainable params: 42,016\n",
      "_________________________________________________________________\n"
     ]
    }
   ],
   "source": [
    "model = tf.keras.Sequential([InputLayer(input_shape=input_shape),\n",
    "                             Conv2D(3,3,activation='relu',padding='same'),\n",
    "                             efn.EfficientNetB0(include_top=False,input_cq_transform=(),weights='imagenet'),\n",
    "                             GlobalAveragePooling2D(),\n",
    "                             Dense(32,activation='relu'),\n",
    "                             Dense(1, activation='sigmoid')])\n",
    "\n",
    "model.summary()\n",
    "model.compile(optimizer=keras.optimizers.Adam(learning_rate=0.001),\n",
    "              loss='binary_crossentropy', metrics=[[keras.metrics.AUC(), 'accuracy']])"
   ]
  },
  {
   "cell_type": "code",
   "execution_count": null,
   "metadata": {
    "papermill": {
     "duration": 0.068474,
     "end_time": "2021-08-02T00:48:52.826375",
     "exception": false,
     "start_time": "2021-08-02T00:48:52.757901",
     "status": "completed"
    },
    "tags": []
   },
   "outputs": [],
   "source": []
  },
  {
   "cell_type": "code",
   "execution_count": 18,
   "metadata": {
    "execution": {
     "iopub.execute_input": "2021-08-04T16:44:40.905230Z",
     "iopub.status.busy": "2021-08-04T16:44:40.904845Z",
     "iopub.status.idle": "2021-08-04T18:47:17.784542Z",
     "shell.execute_reply": "2021-08-04T18:47:17.782214Z",
     "shell.execute_reply.started": "2021-08-04T16:44:40.905198Z"
    },
    "papermill": {
     "duration": 21227.318066,
     "end_time": "2021-08-02T06:42:40.213823",
     "exception": false,
     "start_time": "2021-08-02T00:48:52.895757",
     "status": "completed"
    },
    "tags": []
   },
   "outputs": [
    {
     "name": "stdout",
     "output_type": "stream",
     "text": [
      "2079/2079 [==============================] - 7350s 4s/step - loss: 0.4825 - auc: 0.8230 - val_loss: 0.4447 - val_auc: 0.8523\n"
     ]
    },
    {
     "data": {
      "text/plain": [
       "<tensorflow.python.keras.callbacks.History at 0x7ff698487bd0>"
      ]
     },
     "execution_count": 18,
     "metadata": {},
     "output_type": "execute_result"
    }
   ],
   "source": [
    "model.fit(train_dataset,epochs=1,validation_data=valid_dataset)"
   ]
  },
  {
   "cell_type": "code",
   "execution_count": 20,
   "metadata": {
    "execution": {
     "iopub.execute_input": "2021-08-04T18:47:17.796690Z",
     "iopub.status.busy": "2021-08-04T18:47:17.795696Z",
     "iopub.status.idle": "2021-08-04T19:35:00.741698Z",
     "shell.execute_reply": "2021-08-04T19:35:00.739400Z",
     "shell.execute_reply.started": "2021-08-04T18:47:17.796643Z"
    },
    "papermill": {
     "duration": 0.651644,
     "end_time": "2021-08-02T06:42:42.321559",
     "exception": false,
     "start_time": "2021-08-02T06:42:41.669915",
     "status": "completed"
    },
    "tags": []
   },
   "outputs": [
    {
     "data": {
      "text/plain": [
       "array([[0.99999154],\n",
       "       [0.6224144 ],\n",
       "       [0.36453208],\n",
       "       ...,\n",
       "       [0.23474687],\n",
       "       [0.9827679 ],\n",
       "       [0.09861477]], dtype=float32)"
      ]
     },
     "execution_count": 20,
     "metadata": {},
     "output_type": "execute_result"
    }
   ],
   "source": [
    "preds = model.predict(test_dataset)\n",
    "preds"
   ]
  },
  {
   "cell_type": "code",
   "execution_count": 21,
   "metadata": {
    "execution": {
     "iopub.execute_input": "2021-08-04T19:35:00.745796Z",
     "iopub.status.busy": "2021-08-04T19:35:00.745013Z",
     "iopub.status.idle": "2021-08-04T19:35:01.582948Z",
     "shell.execute_reply": "2021-08-04T19:35:01.581733Z",
     "shell.execute_reply.started": "2021-08-04T19:35:00.745746Z"
    },
    "papermill": {
     "duration": 0.475899,
     "end_time": "2021-08-02T06:42:43.263496",
     "exception": false,
     "start_time": "2021-08-02T06:42:42.787597",
     "status": "completed"
    },
    "tags": []
   },
   "outputs": [],
   "source": [
    "model.save('./model_efn.h5')"
   ]
  },
  {
   "cell_type": "markdown",
   "metadata": {
    "papermill": {
     "duration": 2891.584287,
     "end_time": "2021-08-02T07:30:55.314652",
     "exception": false,
     "start_time": "2021-08-02T06:42:43.730365",
     "status": "completed"
    },
    "tags": []
   },
   "source": [
    "The SOTA model, EfficientNetB0, which we only ran for a single epoch (due to time constraints), we can already see equivalent performance in terms of AUC score and accuracy for the training as well as validation dataset, which is unseen to the model."
   ]
  },
  {
   "cell_type": "code",
   "execution_count": 27,
   "metadata": {
    "execution": {
     "iopub.execute_input": "2021-08-04T19:42:24.061635Z",
     "iopub.status.busy": "2021-08-04T19:42:24.061275Z",
     "iopub.status.idle": "2021-08-04T19:42:24.071128Z",
     "shell.execute_reply": "2021-08-04T19:42:24.069723Z",
     "shell.execute_reply.started": "2021-08-04T19:42:24.061605Z"
    }
   },
   "outputs": [],
   "source": [
    "# Function to save kaggle submissions for test prediction probabilities\n",
    "def get_kaggle_format(prediction_probs, model='base'):\n",
    "    # load the sample submission file\n",
    "#     sub = pd.read_csv('../input/g2net-gravitational-wave-detection/sample_submission.csv')\n",
    "    sample_sub['target'] = prediction_probs\n",
    "    \n",
    "    # Output filename for kaggle submission\n",
    "    filename = f\"kaggle_sub_{model}.csv\"\n",
    "    \n",
    "    # Save the DataFrame to a file\n",
    "    sample_sub.to_csv(filename, index=False)\n",
    "    print(f'File name: {filename}')"
   ]
  },
  {
   "cell_type": "code",
   "execution_count": 28,
   "metadata": {
    "execution": {
     "iopub.execute_input": "2021-08-04T19:42:45.423034Z",
     "iopub.status.busy": "2021-08-04T19:42:45.422523Z",
     "iopub.status.idle": "2021-08-04T19:42:46.170450Z",
     "shell.execute_reply": "2021-08-04T19:42:46.169224Z",
     "shell.execute_reply.started": "2021-08-04T19:42:45.422988Z"
    },
    "papermill": {
     "duration": 0.510638,
     "end_time": "2021-08-02T07:30:56.286954",
     "exception": false,
     "start_time": "2021-08-02T07:30:55.776316",
     "status": "completed"
    },
    "scrolled": true,
    "tags": []
   },
   "outputs": [
    {
     "name": "stdout",
     "output_type": "stream",
     "text": [
      "File name: kaggle_sub_efn.csv\n"
     ]
    }
   ],
   "source": [
    "get_kaggle_format(preds, model='efn')"
   ]
  },
  {
   "cell_type": "markdown",
   "metadata": {},
   "source": [
    "We refer to this model in the main modelling notebook."
   ]
  }
 ],
 "metadata": {
  "kernelspec": {
   "display_name": "Python 3",
   "language": "python",
   "name": "python3"
  },
  "language_info": {
   "codemirror_mode": {
    "name": "ipython",
    "version": 3
   },
   "file_extension": ".py",
   "mimetype": "text/x-python",
   "name": "python",
   "nbconvert_exporter": "python",
   "pygments_lexer": "ipython3",
   "version": "3.6.9"
  }
 },
 "nbformat": 4,
 "nbformat_minor": 4
}
